{
 "cells": [
  {
   "cell_type": "code",
   "execution_count": 6,
   "metadata": {},
   "outputs": [
    {
     "ename": "ImportError",
     "evalue": "cannot import name 'deprecated' from 'typing_extensions' (/Users/hannes_seidl/opt/anaconda3/envs/FDS_env/lib/python3.9/site-packages/typing_extensions.py)",
     "output_type": "error",
     "traceback": [
      "\u001b[0;31m---------------------------------------------------------------------------\u001b[0m",
      "\u001b[0;31mImportError\u001b[0m                               Traceback (most recent call last)",
      "Input \u001b[0;32mIn [6]\u001b[0m, in \u001b[0;36m<cell line: 10>\u001b[0;34m()\u001b[0m\n\u001b[1;32m      7\u001b[0m \u001b[38;5;28;01mfrom\u001b[39;00m \u001b[38;5;21;01mspacy\u001b[39;00m\u001b[38;5;21;01m.\u001b[39;00m\u001b[38;5;21;01mlang\u001b[39;00m\u001b[38;5;21;01m.\u001b[39;00m\u001b[38;5;21;01mpt\u001b[39;00m\u001b[38;5;21;01m.\u001b[39;00m\u001b[38;5;21;01mexamples\u001b[39;00m \u001b[38;5;28;01mimport\u001b[39;00m sentences \n\u001b[1;32m      8\u001b[0m \u001b[38;5;28;01mfrom\u001b[39;00m \u001b[38;5;21;01mnewspaper\u001b[39;00m \u001b[38;5;28;01mimport\u001b[39;00m Article, Source\n\u001b[0;32m---> 10\u001b[0m \u001b[38;5;28;01mfrom\u001b[39;00m \u001b[38;5;21;01mselenium\u001b[39;00m \u001b[38;5;28;01mimport\u001b[39;00m webdriver\n\u001b[1;32m     11\u001b[0m \u001b[38;5;28;01mfrom\u001b[39;00m \u001b[38;5;21;01mselenium\u001b[39;00m\u001b[38;5;21;01m.\u001b[39;00m\u001b[38;5;21;01mwebdriver\u001b[39;00m\u001b[38;5;21;01m.\u001b[39;00m\u001b[38;5;21;01mcommon\u001b[39;00m\u001b[38;5;21;01m.\u001b[39;00m\u001b[38;5;21;01mby\u001b[39;00m \u001b[38;5;28;01mimport\u001b[39;00m By\n\u001b[1;32m     12\u001b[0m \u001b[38;5;28;01mfrom\u001b[39;00m \u001b[38;5;21;01mselenium\u001b[39;00m\u001b[38;5;21;01m.\u001b[39;00m\u001b[38;5;21;01mwebdriver\u001b[39;00m\u001b[38;5;21;01m.\u001b[39;00m\u001b[38;5;21;01msupport\u001b[39;00m\u001b[38;5;21;01m.\u001b[39;00m\u001b[38;5;21;01mui\u001b[39;00m \u001b[38;5;28;01mimport\u001b[39;00m WebDriverWait\n",
      "File \u001b[0;32m~/opt/anaconda3/envs/FDS_env/lib/python3.9/site-packages/selenium/webdriver/__init__.py:29\u001b[0m, in \u001b[0;36m<module>\u001b[0;34m\u001b[0m\n\u001b[1;32m     27\u001b[0m \u001b[38;5;28;01mfrom\u001b[39;00m \u001b[38;5;21;01m.\u001b[39;00m\u001b[38;5;21;01medge\u001b[39;00m\u001b[38;5;21;01m.\u001b[39;00m\u001b[38;5;21;01mwebdriver\u001b[39;00m \u001b[38;5;28;01mimport\u001b[39;00m WebDriver \u001b[38;5;28;01mas\u001b[39;00m ChromiumEdge  \u001b[38;5;66;03m# noqa\u001b[39;00m\n\u001b[1;32m     28\u001b[0m \u001b[38;5;28;01mfrom\u001b[39;00m \u001b[38;5;21;01m.\u001b[39;00m\u001b[38;5;21;01medge\u001b[39;00m\u001b[38;5;21;01m.\u001b[39;00m\u001b[38;5;21;01mwebdriver\u001b[39;00m \u001b[38;5;28;01mimport\u001b[39;00m WebDriver \u001b[38;5;28;01mas\u001b[39;00m Edge  \u001b[38;5;66;03m# noqa\u001b[39;00m\n\u001b[0;32m---> 29\u001b[0m \u001b[38;5;28;01mfrom\u001b[39;00m \u001b[38;5;21;01m.\u001b[39;00m\u001b[38;5;21;01mfirefox\u001b[39;00m\u001b[38;5;21;01m.\u001b[39;00m\u001b[38;5;21;01mfirefox_profile\u001b[39;00m \u001b[38;5;28;01mimport\u001b[39;00m FirefoxProfile  \u001b[38;5;66;03m# noqa\u001b[39;00m\n\u001b[1;32m     30\u001b[0m \u001b[38;5;28;01mfrom\u001b[39;00m \u001b[38;5;21;01m.\u001b[39;00m\u001b[38;5;21;01mfirefox\u001b[39;00m\u001b[38;5;21;01m.\u001b[39;00m\u001b[38;5;21;01moptions\u001b[39;00m \u001b[38;5;28;01mimport\u001b[39;00m Options \u001b[38;5;28;01mas\u001b[39;00m FirefoxOptions  \u001b[38;5;66;03m# noqa\u001b[39;00m\n\u001b[1;32m     31\u001b[0m \u001b[38;5;28;01mfrom\u001b[39;00m \u001b[38;5;21;01m.\u001b[39;00m\u001b[38;5;21;01mfirefox\u001b[39;00m\u001b[38;5;21;01m.\u001b[39;00m\u001b[38;5;21;01mservice\u001b[39;00m \u001b[38;5;28;01mimport\u001b[39;00m Service \u001b[38;5;28;01mas\u001b[39;00m FirefoxService  \u001b[38;5;66;03m# noqa\u001b[39;00m\n",
      "File \u001b[0;32m~/opt/anaconda3/envs/FDS_env/lib/python3.9/site-packages/selenium/webdriver/firefox/firefox_profile.py:31\u001b[0m, in \u001b[0;36m<module>\u001b[0;34m\u001b[0m\n\u001b[1;32m     28\u001b[0m \u001b[38;5;28;01mfrom\u001b[39;00m \u001b[38;5;21;01mio\u001b[39;00m \u001b[38;5;28;01mimport\u001b[39;00m BytesIO\n\u001b[1;32m     29\u001b[0m \u001b[38;5;28;01mfrom\u001b[39;00m \u001b[38;5;21;01mxml\u001b[39;00m\u001b[38;5;21;01m.\u001b[39;00m\u001b[38;5;21;01mdom\u001b[39;00m \u001b[38;5;28;01mimport\u001b[39;00m minidom\n\u001b[0;32m---> 31\u001b[0m \u001b[38;5;28;01mfrom\u001b[39;00m \u001b[38;5;21;01mtyping_extensions\u001b[39;00m \u001b[38;5;28;01mimport\u001b[39;00m deprecated\n\u001b[1;32m     33\u001b[0m \u001b[38;5;28;01mfrom\u001b[39;00m \u001b[38;5;21;01mselenium\u001b[39;00m\u001b[38;5;21;01m.\u001b[39;00m\u001b[38;5;21;01mcommon\u001b[39;00m\u001b[38;5;21;01m.\u001b[39;00m\u001b[38;5;21;01mexceptions\u001b[39;00m \u001b[38;5;28;01mimport\u001b[39;00m WebDriverException\n\u001b[1;32m     35\u001b[0m WEBDRIVER_PREFERENCES \u001b[38;5;241m=\u001b[39m \u001b[38;5;124m\"\u001b[39m\u001b[38;5;124mwebdriver_prefs.json\u001b[39m\u001b[38;5;124m\"\u001b[39m\n",
      "\u001b[0;31mImportError\u001b[0m: cannot import name 'deprecated' from 'typing_extensions' (/Users/hannes_seidl/opt/anaconda3/envs/FDS_env/lib/python3.9/site-packages/typing_extensions.py)"
     ]
    }
   ],
   "source": [
    "import pandas as pd\n",
    "from IPython.display import display\n",
    "import os\n",
    "import json\n",
    "import spacy\n",
    "from spacy.tokens import Doc\n",
    "from spacy.lang.pt.examples import sentences \n",
    "from newspaper import Article, Source\n",
    "\n",
    "from selenium import webdriver\n",
    "from selenium.webdriver.common.by import By\n",
    "from selenium.webdriver.support.ui import WebDriverWait\n",
    "from selenium.webdriver.support import expected_conditions as EC\n",
    "\n",
    "from string import punctuation\n",
    "from collections import Counter\n",
    "import matplotlib.pyplot as plt \n",
    "from spacy.lang.pt.stop_words import STOP_WORDS\n",
    "\n",
    "from fuzzywuzzy import fuzz\n",
    "\n",
    "import requests\n",
    "from bs4 import BeautifulSoup\n",
    "import time\n",
    "from wordcloud import WorldCloud\n"
   ]
  },
  {
   "cell_type": "code",
   "execution_count": 29,
   "metadata": {},
   "outputs": [],
   "source": [
    "nlp = spacy.load('pt_core_news_sm') # commented out once it's loaded\n",
    "\n",
    "punctuations = list(punctuation)"
   ]
  },
  {
   "cell_type": "markdown",
   "metadata": {},
   "source": [
    "### Newspapers, stopwords, and words to filter out of keywords"
   ]
  },
  {
   "cell_type": "code",
   "execution_count": 37,
   "metadata": {},
   "outputs": [],
   "source": [
    "# Newspapers to search\n",
    "\n",
    "newsp = ['cmjornal.pt/', \n",
    "         'dn.pt/',\n",
    "         'expresso.pt/',\n",
    "         'folhanacional.pt/',\n",
    "         'jn.pt/',\n",
    "         'ionline.sapo.pt/',   \n",
    "         'sol.sapo.pt/',\n",
    "         'observador.pt/',\n",
    "         'publico.pt/',\n",
    "         'sabado.pt/',\n",
    "         'sapo.pt/',\n",
    "         'visao.pt/',\n",
    "         ]\n",
    "\n",
    "not_keywords = [\"/multimedia\", \"/videos\", \n",
    "                \"/famosos\", \"/celebridades\", \n",
    "                \"/tecnologia\", \"/boa-vida\", \n",
    "                \"/tendencias\", \"/desporto\",\n",
    "                \"/maissobre\", \"/ciencia\",\n",
    "                \"/cinema\", \"/cultura\",\n",
    "                \"/cidades\", \"/dinheiro\",\n",
    "                \"/blogues\", \"/podcasts\",\n",
    "                \"/vida\", \"/artes\",\n",
    "                \"/iniciativas\", \"/colunistas/andre\",\n",
    "                \"/tribuna\"]\n",
    "\n",
    "stop_words = {'comprida', 'lá', 'mesmo', 'ela', 'de', 'quero', 'vão', 'nesta', 'em', 'com',\n",
    "              'tais', 'neste', 'obrigado', 'bom', 'for', 'vai', 'fazer', 'tens', 'alguns', 'todos',\n",
    "              'tu', 'muito', 'estás', 'deve', 'novas', 'todo', 'foste', 'pode', 'pontos', 'pegar',\n",
    "              'quieto', 'seria', 'eles', 'coisa', 'faz', 'sou', 'daquela', 'tua', 'suas', 'teu',\n",
    "              'cuja', 'esses', 'vindo', 'aquele', 'um', 'certamente', 'essa', 'no', 'vens', 'também',\n",
    "              'maiorias', 'fostes', 'tanta', 'elas', 'desse', 'diante', 'pelas', 'nove', 'quinta', 'maior',\n",
    "              'do', 'quando', 'aqueles', 'desta', 'sabe', 'ambas', 'que', 'tentar', 'estes', 'próximo',\n",
    "              'povo', 'sem', 'uns', 'tão', 'além', 'geral', 'porquanto', 'fora', 'vêm', 'tivemos',\n",
    "              'depois', 'ir', 'ora', 'tarde', 'nessa', 'da', 'nós', 'ver', 'tiveram', 'tem',\n",
    "              'cada', 'exemplo', 'número', 'meus', 'tuas', 'conhecido', 'cento', 'devem', 'para', 'fomos',\n",
    "              'à', 'favor', 'quanto', 'teve', 'apenas', 'este', 'vais', 'mas', 'querem', 'lugar',\n",
    "              'vinte', 'quê', 'após', 'apoio', 'mal', 'quarta', 'grande', 'adeus', 'pelos', 'parece',\n",
    "              'dezanove', 'ligado', 'sob', 'estou', 'ao', 'final', 'talvez', 'demais', 'aos', 'agora',\n",
    "              'você', 'nem', 'maioria', 'vez', 'treze', 'menor', 'temos', 'possível', 'ambos', 'não',\n",
    "              'isto', 'dezoito', 'tempo', 'estas', 'área', 'nenhuma', 'fui', 'estará', 'cujo', 'faço',\n",
    "              'bem', 'logo', 'quais', 'onde', 'menos', 'aquela', 'quatro', 'outras', 'pouca', 'dar',\n",
    "              'dezasseis', 'último', 'valor', 'é', 'antes', 'aqui', 'mais', 'sétimo', 'dizem', 'estão',\n",
    "              'veja', 'dezassete', 'ele', 'tivestes', 'tive', 'quarto', 'nova', 'bastante', 'pois', 'apoia',\n",
    "              'outra', 'teus', 'caminho', 'fazeis', 'lado', 'somente', 'esteve', 'fazemos', 'nesse', 'dessa',\n",
    "              'numa', 'qualquer', 'momento', 'assim', 'esse', 'boa', 'pôde', 'duas', 'longe', 'meio',\n",
    "              'saber', 'és', 'ponto', 'daquele', 'estava', 'irá', 'perto', 'num', 'aí', 'umas',\n",
    "              'nossas', 'falta', 'o', 'dão', 'quer', 'custa', 'tipo', 'sexto', 'vinda', 'segundo',\n",
    "              'sétima', 'ter', 'seu', 'poder', 'enquanto', 'algo', 'sois', 'se', 'poderá', 'grandes',\n",
    "              'naquele', 'dá', 'novos', 'tanto', 'cedo', 'vossas', 'cima', 'posição', 'era', 'na',\n",
    "              'ser', 'vossos', 'seis', 'terceira', 'fim', 'onze', 'disso', 'tentei', 'iniciar', 'minha',\n",
    "              'apontar', 'estiveram', 'quem', 'fará', 'até', 'sexta', 'zero', 'pouco', 'então', 'sei',\n",
    "              'vossa', 'ainda', 'nuns', 'parte', 'sua', 'a', 'mês', 'acerca', 'terceiro', 'primeiro',\n",
    "              'estar', 'oitava', 'grupo', 'porquê', 'contra', 'me', 'forma', 'dizer', 'sete', 'toda',\n",
    "              'dois', 'portanto', 'estado', 'podia', 'vos', 'máximo', 'vocês', 'comprido', 'tenho', 'baixo',\n",
    "              'somos', 'através', 'são', 'quinto', 'nada', 'segunda', 'outros', 'sempre', 'vosso', 'certeza',\n",
    "              'debaixo', 'oitavo', 'lhe', 'dos', 'mil', 'têm', 'desde', 'nível', 'nos', 'usar',\n",
    "              'primeira', 'fazes', 'fazia', 'tiveste', 'deste', 'corrente', 'oito', 'vós', 'doze', 'das',\n",
    "              'sistema', 'inclusive', 'já', 'vem', 'contudo', 'minhas', 'cinco', 'estivestes', 'naquela', 'nas',\n",
    "              'vários', 'tal', 'fazem', 'tentaram', 'posso', 'estiveste', 'direita', 'isso', 'embora', 'pela',\n",
    "              'uma', 'breve', 'nossa', 'números', 'nossos', 'essas', 'dentro', 'deverá', 'partir', 'próxima',\n",
    "              'eventual', 'conselho', 'às', 'esta', 'foi', 'só', 'te', 'possivelmente', 'obrigada', 'relação',\n",
    "              'meses', 'três', 'põem', 'quieta', 'fez', 'ali', 'aquilo', 'sobre', 'qual', 'atrás',\n",
    "              'estive', 'está', 'sim', 'estivemos', 'todas', 'cá', 'ou', 'muitos', 'porque', 'foram',\n",
    "              'algumas', 'pelo', 'por', 'tente', 'questão', 'nosso', 'local', 'novo', 'nunca', 'como',\n",
    "              'meu', 'tudo', 'porém', 'as', 'vezes', 'usa', 'os', 'diz', 'e', 'dez',\n",
    "              'ademais', 'seus', 'conhecida', 'ontem', 'quinze', 'põe', 'des', 'entre', 'eu', 'catorze',\n",
    "              'próprio', 'tendes', 'aquelas', 'podem', 'inicio', 'puderam', 'de o', 'correio', ' ', 'manhã',\n",
    "              'a o', 'comentário', 'conteúdo', 'espaço', 'leitor', '', '”','“'}"
   ]
  },
  {
   "cell_type": "code",
   "execution_count": 6,
   "metadata": {},
   "outputs": [],
   "source": [
    "def extract_data_from_json(folder_path):\n",
    "    \"\"\"\n",
    "    Extracts 'url' and 'timestamp' from all JSON files in the specified folder and stores them in a DataFrame.\n",
    "    \n",
    "    :param folder_path: Path to the folder containing JSON files.\n",
    "    :return: A pandas DataFrame with columns 'url' and 'timestamp'.\n",
    "    \"\"\"\n",
    "    data = []\n",
    "\n",
    "    # Iterate through all files in the folder\n",
    "    for file_name in os.listdir(folder_path):\n",
    "        # Check if the file is a JSON file\n",
    "        if file_name.endswith('.json'):\n",
    "            file_path = os.path.join(folder_path, file_name)\n",
    "            # Open and load the JSON file\n",
    "            with open(file_path, 'r', encoding='utf-8') as file:\n",
    "                try:\n",
    "                    json_data = json.load(file)\n",
    "                    # Check if the data is a list of dictionaries\n",
    "                    if isinstance(json_data, list):\n",
    "                        for entry in json_data:\n",
    "                            # Extract 'url' and 'timestamp' if available\n",
    "                            if 'url' in entry and 'timestamp' in entry:\n",
    "                                data.append({\n",
    "                                    'url': entry['url'],\n",
    "                                    'timestamp': entry['timestamp']\n",
    "                                })\n",
    "                except json.JSONDecodeError as e:\n",
    "                    print(f\"Error decoding JSON file {file_name}: {e}\")\n",
    "\n",
    "    # Convert collected data into a DataFrame\n",
    "    df = pd.DataFrame(data, columns=['url', 'timestamp'])\n",
    "    return df\n"
   ]
  },
  {
   "cell_type": "code",
   "execution_count": 42,
   "metadata": {},
   "outputs": [],
   "source": [
    "df = extract_data_from_json(\"/Users/joaop.cardoso/MestradoCD/FCD/FDS_Project/cdx_results_json_files/data\")"
   ]
  },
  {
   "cell_type": "code",
   "execution_count": 6,
   "metadata": {},
   "outputs": [],
   "source": [
    "# Use this command to avoid running the code above\n",
    "df = pd.read_csv('full_dataset.csv')"
   ]
  },
  {
   "cell_type": "code",
   "execution_count": 5,
   "metadata": {},
   "outputs": [],
   "source": [
    "def filter_links(df, keywords):\n",
    "    \"\"\"\n",
    "    Filters out rows from the DataFrame by assessing each keyword individually.\n",
    "    Returns the result as a dictionary.\n",
    "    \n",
    "    :param df: A pandas DataFrame with at least 'url' and 'timestamp' columns.\n",
    "    :param keywords: A list of keywords to filter out.\n",
    "    :return: A dictionary with 'url' and 'timestamp' for rows that do not contain any of the keywords.\n",
    "    \"\"\"\n",
    "    filtered_df = df.copy()\n",
    "\n",
    "    # Iterate over each keyword and filter rows\n",
    "    for keyword in keywords:\n",
    "        filtered_df = filtered_df[~filtered_df['url'].str.contains(keyword, case=False, na=False)]\n",
    "    \n",
    "    # Convert the filtered DataFrame to a dictionary\n",
    "    result_dict = pd.DataFrame(filtered_df)\n",
    "    return result_dict\n"
   ]
  },
  {
   "cell_type": "code",
   "execution_count": null,
   "metadata": {},
   "outputs": [],
   "source": [
    "# Removing all the unwanted links, by filtering out by tags in the links\n",
    "df_clean = filter_links(df, not_keywords)"
   ]
  },
  {
   "cell_type": "code",
   "execution_count": 8,
   "metadata": {},
   "outputs": [],
   "source": [
    "# Function to process the title\n",
    "def title_input(df): \n",
    "    processed_texts = []  # Initialize inside the function\n",
    "\n",
    "    # Extract the last part of each URL, handling NaN values\n",
    "    last_part = df['url'].str.rsplit('/').str[-1]  # Extract the last part of the URL\n",
    "    last_part = last_part.fillna(\"\")  # Replace NaN values with an empty string\n",
    "\n",
    "    # Handle cases where the last part is empty\n",
    "    last_part[last_part == \"\"] = df['url'].str.rsplit('/').str[-2].fillna(\"\")  # Use the second-to-last part if last is empty\n",
    "    \n",
    "    for part in last_part:\n",
    "        if \"-\" in part:\n",
    "            parts = part.rsplit('-')[0:-1]  # Split by '-' and remove the last element\n",
    "            sentence = \" \".join(parts)  # Join parts to form a sentence\n",
    "            processed_sentence = nlp(sentence)  # Process with SpaCy\n",
    "            processed_texts.append(\" \".join(token.text for token in processed_sentence))\n",
    "        else:\n",
    "            processed_texts.append(\"\")  # Append an empty string if no processing was done\n",
    "\n",
    "    # Use .loc to avoid SettingWithCopyWarning\n",
    "    df = df.copy()  # Create a copy to avoid SettingWithCopyWarning if df is a slice\n",
    "    df.loc[:, 'processed_url_text'] = processed_texts\n",
    "\n",
    "    # Update the original DataFrame dictionary with the filtered DataFrame\n",
    "    df_updated = df\n",
    "    \n",
    "    return df"
   ]
  },
  {
   "cell_type": "markdown",
   "metadata": {},
   "source": [
    "### Applying the function title_input to df_clean, in order to have the titles as strings for analysis"
   ]
  },
  {
   "cell_type": "code",
   "execution_count": 9,
   "metadata": {},
   "outputs": [],
   "source": [
    "df_clean = title_input(df_clean)"
   ]
  },
  {
   "cell_type": "code",
   "execution_count": 11,
   "metadata": {},
   "outputs": [],
   "source": [
    "# Function to find the newspaper name in the URL\n",
    "def find_newspaper(url):\n",
    "    for newspaper in newsp:\n",
    "        if newspaper in url:\n",
    "            return newspaper\n",
    "    return None  # Return None if no newspaper is found"
   ]
  },
  {
   "cell_type": "code",
   "execution_count": 14,
   "metadata": {},
   "outputs": [],
   "source": [
    "df_clean['newspaper'] = df_clean['url'].apply(find_newspaper)"
   ]
  },
  {
   "cell_type": "code",
   "execution_count": 17,
   "metadata": {},
   "outputs": [
    {
     "data": {
      "text/html": [
       "<div>\n",
       "<style scoped>\n",
       "    .dataframe tbody tr th:only-of-type {\n",
       "        vertical-align: middle;\n",
       "    }\n",
       "\n",
       "    .dataframe tbody tr th {\n",
       "        vertical-align: top;\n",
       "    }\n",
       "\n",
       "    .dataframe thead th {\n",
       "        text-align: right;\n",
       "    }\n",
       "</style>\n",
       "<table border=\"1\" class=\"dataframe\">\n",
       "  <thead>\n",
       "    <tr style=\"text-align: right;\">\n",
       "      <th></th>\n",
       "      <th>url</th>\n",
       "      <th>timestamp</th>\n",
       "      <th>processed_url_text</th>\n",
       "      <th>newspaper</th>\n",
       "    </tr>\n",
       "  </thead>\n",
       "  <tbody>\n",
       "    <tr>\n",
       "      <th>0</th>\n",
       "      <td>https://www.cmjornal.pt/c-studio/especiais-c-s...</td>\n",
       "      <td>20200426174855</td>\n",
       "      <td>apoio domiciliario chega a 2200 pessoas por</td>\n",
       "      <td>cmjornal.pt/</td>\n",
       "    </tr>\n",
       "    <tr>\n",
       "      <th>1</th>\n",
       "      <td>https://www.cmjornal.pt/c-studio/especiais-c-s...</td>\n",
       "      <td>20200427174619</td>\n",
       "      <td>apoio domiciliario chega a 2200 pessoas por</td>\n",
       "      <td>cmjornal.pt/</td>\n",
       "    </tr>\n",
       "    <tr>\n",
       "      <th>2</th>\n",
       "      <td>https://www.cmjornal.pt/c-studio/especiais-c-s...</td>\n",
       "      <td>20200428171922</td>\n",
       "      <td>apoio domiciliario chega a 2200 pessoas por</td>\n",
       "      <td>cmjornal.pt/</td>\n",
       "    </tr>\n",
       "    <tr>\n",
       "      <th>3</th>\n",
       "      <td>https://www.cmjornal.pt/c-studio/especiais-c-s...</td>\n",
       "      <td>20200429172316</td>\n",
       "      <td>apoio domiciliario chega a 2200 pessoas por</td>\n",
       "      <td>cmjornal.pt/</td>\n",
       "    </tr>\n",
       "    <tr>\n",
       "      <th>4</th>\n",
       "      <td>https://www.cmjornal.pt/c-studio/especiais-c-s...</td>\n",
       "      <td>20200430181128</td>\n",
       "      <td>apoio domiciliario chega a 2200 pessoas por</td>\n",
       "      <td>cmjornal.pt/</td>\n",
       "    </tr>\n",
       "  </tbody>\n",
       "</table>\n",
       "</div>"
      ],
      "text/plain": [
       "                                                 url       timestamp  \\\n",
       "0  https://www.cmjornal.pt/c-studio/especiais-c-s...  20200426174855   \n",
       "1  https://www.cmjornal.pt/c-studio/especiais-c-s...  20200427174619   \n",
       "2  https://www.cmjornal.pt/c-studio/especiais-c-s...  20200428171922   \n",
       "3  https://www.cmjornal.pt/c-studio/especiais-c-s...  20200429172316   \n",
       "4  https://www.cmjornal.pt/c-studio/especiais-c-s...  20200430181128   \n",
       "\n",
       "                            processed_url_text     newspaper  \n",
       "0  apoio domiciliario chega a 2200 pessoas por  cmjornal.pt/  \n",
       "1  apoio domiciliario chega a 2200 pessoas por  cmjornal.pt/  \n",
       "2  apoio domiciliario chega a 2200 pessoas por  cmjornal.pt/  \n",
       "3  apoio domiciliario chega a 2200 pessoas por  cmjornal.pt/  \n",
       "4  apoio domiciliario chega a 2200 pessoas por  cmjornal.pt/  "
      ]
     },
     "execution_count": 17,
     "metadata": {},
     "output_type": "execute_result"
    }
   ],
   "source": [
    "df_clean.head()"
   ]
  },
  {
   "cell_type": "markdown",
   "metadata": {},
   "source": [
    "### Function to create 'arquivo' links, to then store in specific columns"
   ]
  },
  {
   "cell_type": "code",
   "execution_count": null,
   "metadata": {},
   "outputs": [],
   "source": [
    "def combine_url_and_timestamp(row):\n",
    "    \"\"\"\n",
    "    Combines the base URL with the 'url' and 'timestamp' columns from a DataFrame row.\n",
    "    \n",
    "    :param row: A row from a pandas DataFrame.\n",
    "    :return: A combined URL string.\n",
    "    \"\"\"\n",
    "    base_url = \"https://arquivo.pt/noFrame/replay/\"\n",
    "    return f\"{base_url}{row['timestamp']}id_/{row['url']}\""
   ]
  },
  {
   "cell_type": "code",
   "execution_count": 19,
   "metadata": {},
   "outputs": [],
   "source": [
    "df_clean['arquivo_url'] = df_clean.apply(combine_url_and_timestamp, axis=1)"
   ]
  },
  {
   "cell_type": "code",
   "execution_count": null,
   "metadata": {},
   "outputs": [],
   "source": [
    "# Save the DataFrame to a CSV file, stored with arquivo link\n",
    "df_clean.to_csv('full_ds_title_clean.csv', index=False, encoding='utf-8')"
   ]
  },
  {
   "cell_type": "code",
   "execution_count": 5,
   "metadata": {},
   "outputs": [],
   "source": [
    "# Function to filter the dataframe, for links with \"chega\" and \"andre ventura\"\n",
    "def filter_dataframe(df, text_column=\"processed_url_text\"):\n",
    "    # List to keep track of row indices that meet the criteria\n",
    "    indices_to_keep = []\n",
    "\n",
    "    # Iterate over each row in the DataFrame to access both the index and text\n",
    "    for index, row in df.iterrows():\n",
    "        text = row[text_column]\n",
    "        \n",
    "        # Skip if the text is NaN\n",
    "        if pd.isna(text):\n",
    "            continue\n",
    "        \n",
    "        doc = nlp(text)\n",
    "\n",
    "        # Check if \"chega\" appears as a noun in the document\n",
    "        is_chega_noun = any(token.text.lower() == \"chega\" and token.pos_ == \"NOUN\" for token in doc)\n",
    "\n",
    "        # Check if both \"andre\" and \"ventura\" appear in the document\n",
    "        contains_andre_ventura = \"andre\" in text.lower() and \"ventura\" in text.lower()\n",
    "\n",
    "        # If either condition is met, keep the row index\n",
    "        if is_chega_noun or contains_andre_ventura:\n",
    "            indices_to_keep.append(index)\n",
    "\n",
    "    # Filter the DataFrame to only include rows that meet the criteria\n",
    "    df = df.loc[indices_to_keep].reset_index(drop=True)\n",
    "    \n",
    "    return df\n"
   ]
  },
  {
   "cell_type": "markdown",
   "metadata": {},
   "source": [
    "### Applying the function to assess the stored title to distinguish between 'chega' noun and 'chega' verb"
   ]
  },
  {
   "cell_type": "code",
   "execution_count": 6,
   "metadata": {},
   "outputs": [],
   "source": [
    "df_work = filter_dataframe(df_clean)"
   ]
  },
  {
   "cell_type": "code",
   "execution_count": null,
   "metadata": {},
   "outputs": [],
   "source": [
    "# Save the DataFrame to a CSV file\n",
    "df_work.to_csv('working_dataset.csv', index=False, encoding='utf-8')"
   ]
  },
  {
   "cell_type": "code",
   "execution_count": null,
   "metadata": {},
   "outputs": [],
   "source": [
    "# Start from this point\n",
    "df = pd.read_csv('working_dataset.csv')"
   ]
  },
  {
   "cell_type": "markdown",
   "metadata": {},
   "source": [
    "### Functions to scrape links (url and arquivo url in case is needed) using newspaper package"
   ]
  },
  {
   "cell_type": "code",
   "execution_count": 61,
   "metadata": {},
   "outputs": [],
   "source": [
    "# Function to scrape and parse an article\n",
    "def scrape_article(row):\n",
    "    \"\"\"\n",
    "    Fetches and parses the article content from the given URL.\n",
    "\n",
    "    :param url: URL of the article.\n",
    "    :return: A dictionary with the article's title, authors, publish date, and text.\n",
    "    \"\"\"\n",
    "    article = Article(row['url'])\n",
    "    article.download()  # Download the article content\n",
    "    article.parse()     # Parse the downloaded content\n",
    "\n",
    "    return {\n",
    "        \"title\": article.title,\n",
    "        \"authors\": article.authors,\n",
    "        \"publish_date\": article.publish_date,\n",
    "        \"text\": article.text\n",
    "    }"
   ]
  },
  {
   "cell_type": "markdown",
   "metadata": {},
   "source": [
    "#### Troubleshooting a link that is not read using newspaper package. Likely need to use beautiful soup in these cases"
   ]
  },
  {
   "cell_type": "code",
   "execution_count": null,
   "metadata": {},
   "outputs": [
    {
     "name": "stdout",
     "output_type": "stream",
     "text": [
      "[]\n"
     ]
    }
   ],
   "source": [
    "# Function to scrape and parse an article\n",
    "def scrape_article2(str):\n",
    "    \"\"\"\n",
    "    Fetches and parses the article content from the given URL.\n",
    "\n",
    "    :param url: URL of the article.\n",
    "    :return: A dictionary with the article's title, authors, publish date, and text.\n",
    "    \"\"\"\n",
    "    article = Article(str)\n",
    "    article.download()  # Download the article content\n",
    "    article.parse()     # Parse the downloaded content\n",
    "\n",
    "    return {\n",
    "        \"title\": article.title,\n",
    "        \"authors\": article.authors,\n",
    "        \"publish_date\": article.publish_date,\n",
    "        \"text\": article.text\n",
    "    }"
   ]
  },
  {
   "cell_type": "code",
   "execution_count": 74,
   "metadata": {},
   "outputs": [],
   "source": [
    "import requests\n",
    "from bs4 import BeautifulSoup\n",
    "import time\n",
    "\n",
    "def get_paragraphs(url):\n",
    "    \"\"\"\n",
    "    Fetches and retrieves all <p> elements from a newspaper page using BeautifulSoup.\n",
    "\n",
    "    :param url: URL of the newspaper page.\n",
    "    :return: A list of text content from all <p> elements on the page.\n",
    "    \"\"\"\n",
    "    headers = {\n",
    "        'User-Agent': 'Mozilla/5.0 (Windows NT 10.0; Win64; x64) AppleWebKit/537.36 (KHTML, like Gecko) Chrome/58.0.3029.110 Safari/537.3'\n",
    "    }\n",
    "\n",
    "    try:\n",
    "        # Send an HTTP GET request to the newspaper URL\n",
    "        response = requests.get(url, headers=headers, timeout=10)\n",
    "        response.raise_for_status()  # Raise an error for bad responses\n",
    "        \n",
    "        # Introduce a small delay to ensure content is fully loaded\n",
    "        time.sleep(2)\n",
    "\n",
    "        # Parse the page content using BeautifulSoup\n",
    "        soup = BeautifulSoup(response.content, 'lxml')\n",
    "\n",
    "        # Extract all <p> elements from the entire page\n",
    "        paragraphs = soup.find_all('p')\n",
    "        paragraph_texts = [p.get_text(strip=True) for p in paragraphs]\n",
    "\n",
    "        return paragraph_texts\n",
    "\n",
    "    except requests.RequestException as e:\n",
    "        print(f\"Error fetching the page at {url}: {e}\")\n",
    "        return []\n",
    "    except Exception as e:\n",
    "        print(f\"An unexpected error occurred for URL {url}: {e}\")\n",
    "        return []\n",
    "\n",
    "#Example usage:\n",
    "url = \"https://www.jn.pt/nacional/costa-responde-a-cavaco-perigoso-e-a-direita-democratica-condicionar-se-pelo-chega-15853782.html\"\n",
    "paragraphs = get_paragraphs(url)\n",
    "for para in paragraphs:\n",
    "    print(para)\n"
   ]
  },
  {
   "cell_type": "code",
   "execution_count": 75,
   "metadata": {},
   "outputs": [
    {
     "data": {
      "text/plain": [
       "[]"
      ]
     },
     "execution_count": 75,
     "metadata": {},
     "output_type": "execute_result"
    }
   ],
   "source": [
    "paragraphs"
   ]
  },
  {
   "cell_type": "code",
   "execution_count": null,
   "metadata": {},
   "outputs": [],
   "source": [
    "def scrape_archive_page(row):\n",
    "    \"\"\"\n",
    "    Fetches and parses content from an archived web page, ensuring the final archived URL is used.\n",
    "    \n",
    "    :param url: URL of the archived page.\n",
    "    :param timestamp: Timestamp of the archived URL (from the Arquivo.pt dataset).\n",
    "    :return: A dictionary with the article's title, authors, publish date, and text.\n",
    "    \"\"\"\n",
    "    try:\n",
    "        # Set up Selenium WebDriver\n",
    "        options = webdriver.ChromeOptions()\n",
    "        options.add_argument(\"--headless\")  # Run in headless mode (no GUI)\n",
    "        options.add_argument(\"--disable-gpu\")  # Disable GPU for performance\n",
    "        options.add_argument(\"--no-sandbox\")  # Required for some server environments\n",
    "        options.add_argument(\"--blink-settings=imagesEnabled=false\")  # Disable images\n",
    "        options.page_load_strategy = \"eager\"  # Stop loading after DOMContentLoaded\n",
    "\n",
    "        driver = webdriver.Chrome(options=options)\n",
    "        driver.set_page_load_timeout(30)  # Increase page load timeout to 30 seconds\n",
    "\n",
    "        # Load the initial URL\n",
    "        driver.get(row['url'])\n",
    "\n",
    "        # Wait for the page to load fully\n",
    "        WebDriverWait(driver, 20).until(\n",
    "            EC.presence_of_element_located((By.TAG_NAME, \"body\"))  # Wait up to 20 seconds\n",
    "        )\n",
    "\n",
    "        # Get the final archived URL after all redirects\n",
    "        final_archived_url = driver.current_url\n",
    "        print(f\"Final archived URL: {final_archived_url}\")\n",
    "\n",
    "        # If the final URL points to a live site, reconstruct the Arquivo.pt link\n",
    "        if \"arquivo.pt\" not in final_archived_url:\n",
    "            final_archived_url = f\"https://arquivo.pt/noFrame/replay/{row['timestamp']}/{final_archived_url}\"\n",
    "            print(f\"Reconstructed archived URL: {final_archived_url}\")\n",
    "\n",
    "        # Close the driver\n",
    "        driver.quit()\n",
    "\n",
    "        # Use newspaper3k to extract content from the reconstructed archived URL\n",
    "        article = Article(final_archived_url)\n",
    "        article.download()  # Download content from the final archived URL\n",
    "        article.parse()  # Parse the downloaded content\n",
    "\n",
    "        return {\n",
    "            \"title\": article.title,\n",
    "            \"authors\": article.authors,\n",
    "            \"publish_date\": article.publish_date,\n",
    "            \"text\": article.text\n",
    "        }\n",
    "    except Exception as e:\n",
    "        print(f\"Error processing URL {url}: {e}\")\n",
    "        return {\n",
    "            \"title\": None,\n",
    "            \"authors\": None,\n",
    "            \"publish_date\": None,\n",
    "            \"text\": None\n",
    "        }"
   ]
  },
  {
   "cell_type": "markdown",
   "metadata": {},
   "source": [
    "### Function using the article and arquivo link, and organized to avoid scraping the same article multiple times"
   ]
  },
  {
   "cell_type": "code",
   "execution_count": null,
   "metadata": {},
   "outputs": [],
   "source": [
    "def scrape_with_duplicates_handling(df):\n",
    "    \"\"\"\n",
    "    Scrapes data from a dataset while avoiding duplicates.\n",
    "    If a row is processed successfully, subsequent duplicates are skipped.\n",
    "    \n",
    "    :param df: Input dataframe with 'url' and other necessary columns.\n",
    "    :return: A new dataframe with the scraped data.\n",
    "    \"\"\"\n",
    "    processed_urls = set()  # To track processed URLs\n",
    "    results = []  # To store the scraped results\n",
    "    \n",
    "    for _, row in df.iterrows():\n",
    "        url = row['url']  # Extract the URL from the current row\n",
    "        \n",
    "        if url in processed_urls:\n",
    "            print(f\"Skipping duplicate URL: {url}\")\n",
    "            continue  # Skip duplicates\n",
    "        \n",
    "        # Attempt to scrape the data\n",
    "        try:\n",
    "            scraped_data = scrape_article(row)  # Try live article scraping\n",
    "            if not scraped_data['title']:  # If scrape_article fails to retrieve meaningful data\n",
    "                raise ValueError(\"Empty title from scrape_article\")\n",
    "        except Exception as e:\n",
    "            print(f\"scrape_article failed for URL {url}: {e}\")\n",
    "            try:\n",
    "                scraped_data = scrape_archive_page(row)  # Fall back to archived page scraping\n",
    "            except Exception as archive_error:\n",
    "                print(f\"scrape_archive_page also failed for URL {url}: {archive_error}\")\n",
    "                scraped_data = {\n",
    "                    \"title\": None,\n",
    "                    \"authors\": None,\n",
    "                    \"publish_date\": None,\n",
    "                    \"text\": None\n",
    "                }\n",
    "        \n",
    "        # If scraping succeeds, add URL to processed and save data\n",
    "        processed_urls.add(url)\n",
    "        results.append({**row.to_dict(), **scraped_data})  # Combine original row with scraped data\n",
    "    \n",
    "    # Create a new dataframe with the results\n",
    "    return pd.DataFrame(results)"
   ]
  },
  {
   "cell_type": "code",
   "execution_count": null,
   "metadata": {},
   "outputs": [
    {
     "data": {
      "text/html": [
       "<div>\n",
       "<style scoped>\n",
       "    .dataframe tbody tr th:only-of-type {\n",
       "        vertical-align: middle;\n",
       "    }\n",
       "\n",
       "    .dataframe tbody tr th {\n",
       "        vertical-align: top;\n",
       "    }\n",
       "\n",
       "    .dataframe thead th {\n",
       "        text-align: right;\n",
       "    }\n",
       "</style>\n",
       "<table border=\"1\" class=\"dataframe\">\n",
       "  <thead>\n",
       "    <tr style=\"text-align: right;\">\n",
       "      <th></th>\n",
       "      <th>url</th>\n",
       "      <th>timestamp</th>\n",
       "      <th>processed_url_text</th>\n",
       "      <th>newspaper</th>\n",
       "      <th>arquivo_url</th>\n",
       "      <th>title</th>\n",
       "      <th>authors</th>\n",
       "      <th>publish_date</th>\n",
       "      <th>text</th>\n",
       "    </tr>\n",
       "  </thead>\n",
       "  <tbody>\n",
       "    <tr>\n",
       "      <th>0</th>\n",
       "      <td>https://www.cmjornal.pt/politica/amp/andre-ven...</td>\n",
       "      <td>20200124190851</td>\n",
       "      <td>andre ventura do chega quer camaras nas fardas...</td>\n",
       "      <td>cmjornal.pt/</td>\n",
       "      <td>https://arquivo.pt/wayback/20200124190851/http...</td>\n",
       "      <td>André Ventura do Chega quer câmaras nas fardas...</td>\n",
       "      <td>[]</td>\n",
       "      <td>NaN</td>\n",
       "      <td>O partido Chega apresentou um projeto de resol...</td>\n",
       "    </tr>\n",
       "    <tr>\n",
       "      <th>1</th>\n",
       "      <td>https://www.cmjornal.pt/politica/amp/aprovada-...</td>\n",
       "      <td>20200203181044</td>\n",
       "      <td>aprovada proposta do chega para divulgar finan...</td>\n",
       "      <td>cmjornal.pt/</td>\n",
       "      <td>https://arquivo.pt/wayback/20200203181044/http...</td>\n",
       "      <td>Aprovada proposta do Chega para divulgar finan...</td>\n",
       "      <td>[]</td>\n",
       "      <td>NaN</td>\n",
       "      <td>A proposta do Chega para que seja pública a li...</td>\n",
       "    </tr>\n",
       "    <tr>\n",
       "      <th>2</th>\n",
       "      <td>https://www.cmjornal.pt/politica/amp/aprovado-...</td>\n",
       "      <td>20200206190139</td>\n",
       "      <td>aprovado voto do chega para condenar agressoes...</td>\n",
       "      <td>cmjornal.pt/</td>\n",
       "      <td>https://arquivo.pt/wayback/20200206190139/http...</td>\n",
       "      <td>Aprovado voto do Chega para condenar agressões...</td>\n",
       "      <td>[]</td>\n",
       "      <td>NaN</td>\n",
       "      <td>O parlamento aprovou esta quinta-feira um voto...</td>\n",
       "    </tr>\n",
       "    <tr>\n",
       "      <th>3</th>\n",
       "      <td>https://www.cmjornal.pt/politica/amp/be-diz-qu...</td>\n",
       "      <td>20200205010909</td>\n",
       "      <td>be diz que nao ha gente seria na bancada do ch...</td>\n",
       "      <td>cmjornal.pt/</td>\n",
       "      <td>https://arquivo.pt/wayback/20200205010909/http...</td>\n",
       "      <td>NaN</td>\n",
       "      <td>NaN</td>\n",
       "      <td>NaN</td>\n",
       "      <td>NaN</td>\n",
       "    </tr>\n",
       "    <tr>\n",
       "      <th>4</th>\n",
       "      <td>https://www.cmjornal.pt/politica/amp/comissao-...</td>\n",
       "      <td>20200227012044</td>\n",
       "      <td>comissao diz que projeto de castracao quimica ...</td>\n",
       "      <td>cmjornal.pt/</td>\n",
       "      <td>https://arquivo.pt/wayback/20200227012044/http...</td>\n",
       "      <td>Comissão diz que projeto de castração química ...</td>\n",
       "      <td>[]</td>\n",
       "      <td>NaN</td>\n",
       "      <td>A Comissão de Assuntos Constitucionais decidiu...</td>\n",
       "    </tr>\n",
       "  </tbody>\n",
       "</table>\n",
       "</div>"
      ],
      "text/plain": [
       "                                                 url       timestamp  \\\n",
       "0  https://www.cmjornal.pt/politica/amp/andre-ven...  20200124190851   \n",
       "1  https://www.cmjornal.pt/politica/amp/aprovada-...  20200203181044   \n",
       "2  https://www.cmjornal.pt/politica/amp/aprovado-...  20200206190139   \n",
       "3  https://www.cmjornal.pt/politica/amp/be-diz-qu...  20200205010909   \n",
       "4  https://www.cmjornal.pt/politica/amp/comissao-...  20200227012044   \n",
       "\n",
       "                                  processed_url_text     newspaper  \\\n",
       "0  andre ventura do chega quer camaras nas fardas...  cmjornal.pt/   \n",
       "1  aprovada proposta do chega para divulgar finan...  cmjornal.pt/   \n",
       "2  aprovado voto do chega para condenar agressoes...  cmjornal.pt/   \n",
       "3  be diz que nao ha gente seria na bancada do ch...  cmjornal.pt/   \n",
       "4  comissao diz que projeto de castracao quimica ...  cmjornal.pt/   \n",
       "\n",
       "                                         arquivo_url  \\\n",
       "0  https://arquivo.pt/wayback/20200124190851/http...   \n",
       "1  https://arquivo.pt/wayback/20200203181044/http...   \n",
       "2  https://arquivo.pt/wayback/20200206190139/http...   \n",
       "3  https://arquivo.pt/wayback/20200205010909/http...   \n",
       "4  https://arquivo.pt/wayback/20200227012044/http...   \n",
       "\n",
       "                                               title authors publish_date  \\\n",
       "0  André Ventura do Chega quer câmaras nas fardas...      []          NaN   \n",
       "1  Aprovada proposta do Chega para divulgar finan...      []          NaN   \n",
       "2  Aprovado voto do Chega para condenar agressões...      []          NaN   \n",
       "3                                                NaN     NaN          NaN   \n",
       "4  Comissão diz que projeto de castração química ...      []          NaN   \n",
       "\n",
       "                                                text  \n",
       "0  O partido Chega apresentou um projeto de resol...  \n",
       "1  A proposta do Chega para que seja pública a li...  \n",
       "2  O parlamento aprovou esta quinta-feira um voto...  \n",
       "3                                                NaN  \n",
       "4  A Comissão de Assuntos Constitucionais decidiu...  "
      ]
     },
     "execution_count": 8,
     "metadata": {},
     "output_type": "execute_result"
    }
   ],
   "source": [
    "# Apply the function to the dataset\n",
    "new_df = scrape_with_duplicates_handling(df)\n",
    "\n",
    "# Save the new dataset to a file (optional)\n",
    "new_df.to_csv(\"scraped_data.csv\", index=False)\n",
    "\n",
    "scraped_df = new_df = pd.read_csv('scraped_data.csv')\n",
    "\n",
    "scraped_df.head()"
   ]
  },
  {
   "cell_type": "markdown",
   "metadata": {},
   "source": [
    "### Function to remove instances that have a similarity above 50 %, using the fuzzy_wuzzy package\n",
    "\n",
    "This came as a need to remove several links with very short text that were jeoperdizing the EDA"
   ]
  },
  {
   "cell_type": "code",
   "execution_count": null,
   "metadata": {},
   "outputs": [],
   "source": [
    "# To store removed instances\n",
    "removed_instances = []\n",
    "\n",
    "# Function to find and remove similar rows\n",
    "def remove_similar_entries(df, threshold=50):\n",
    "    indices_to_remove = set()\n",
    "    for i, text1 in enumerate(df['text']):\n",
    "        for j, text2 in enumerate(df['text']):\n",
    "            if i != j and j not in indices_to_remove:\n",
    "                similarity = fuzz.ratio(str(text1), str(text2))\n",
    "                if similarity >= threshold:\n",
    "                    indices_to_remove.add(j)\n",
    "                    removed_instances.append({\"Index\": j, \"Text\": text2, \"Similarity (%)\": similarity})\n",
    "    # Drop the rows from the DataFrame\n",
    "    df = df.drop(list(indices_to_remove))\n",
    "    return df\n",
    "\n",
    "# Apply the function\n",
    "cleaned_df = remove_similar_entries(new_df)\n",
    "print(cleaned_df)\n",
    "\n",
    "# Save the cleaned dataset\n",
    "cleaned_df.to_csv(\"cleaned_dataset.csv\", index=False)\n",
    "\n",
    "# Print removed instances\n",
    "removed_df = pd.DataFrame(removed_instances)\n",
    "#removed_instances_df.to_csv(\"removed_instances.csv\", index=False)\n",
    "\n",
    "removed_df.drop_duplicates(subset=['Text'])"
   ]
  },
  {
   "cell_type": "code",
   "execution_count": 50,
   "metadata": {},
   "outputs": [],
   "source": [
    "removed_df = pd.read_csv('/Users/joaop.cardoso/MestradoCD/FCD/FDS_Project/archive/removed_instances.csv')\n",
    "\n",
    "removed_df.drop_duplicates(subset=['Text'])\n",
    "\n",
    "# Assuming 'Index' is a column in removed_df and contains the indices you need from scraped_df\n",
    "indices_to_retrieve = removed_df['Index']\n",
    "\n",
    "# Retrieve the rows from scraped_df using the indices in removed_df\n",
    "retrieved_df = scraped_df.loc[indices_to_retrieve]\n",
    "\n",
    "# Reset index if needed\n",
    "retrieved_df.reset_index(drop=True, inplace=True)\n",
    "\n",
    "retrieved_df.to_csv(\"retrieved_dataset.csv\", index=False)"
   ]
  },
  {
   "cell_type": "code",
   "execution_count": null,
   "metadata": {},
   "outputs": [],
   "source": [
    "# Start from this point\n",
    "cleaned_df = pd.read_csv('cleaned_dataset.csv')\n",
    "\n",
    "removed_df = pd.read_csv('removed_instances.csv')\n",
    "print(removed_df)"
   ]
  },
  {
   "cell_type": "code",
   "execution_count": 51,
   "metadata": {},
   "outputs": [],
   "source": [
    "combined_df = pd.concat([cleaned_df, retrieved_df], ignore_index=True)"
   ]
  },
  {
   "cell_type": "code",
   "execution_count": 52,
   "metadata": {},
   "outputs": [],
   "source": [
    "combined_df.to_csv(\"working_dataset.csv\", index=False)\n"
   ]
  },
  {
   "cell_type": "markdown",
   "metadata": {},
   "source": [
    "### Lemmatization of the final dataframe with scraped reviews"
   ]
  },
  {
   "cell_type": "code",
   "execution_count": 53,
   "metadata": {},
   "outputs": [],
   "source": [
    "# Empty dictionary to introduce the tokens\n",
    "lemmas_dict = {}\n",
    "\n",
    "# Loop through each review along with its index\n",
    "for index, row in cleaned_df.iterrows():\n",
    "    text = row['text']  # Access the 'text' column\n",
    "    if text is None or not isinstance(text, str):\n",
    "        print(f\"Skipping index {index} because the review is None\")\n",
    "        continue\n",
    "    doc = nlp(text)\n",
    "    lemmas = [ word.lemma_.lower().strip() if word.lemma_ != \"-PRON-\" else word.lower_ for word in doc ]\n",
    "    lemmas = [ word for word in lemmas if word not in stop_words and word not in punctuations ]\n",
    "    lemmas = [word for word in lemmas if word not in {\"em o\", \"por o\", \"\", \"“\", \"”\"}]  # Additional filter\n",
    "    lemmas_dict[index] = lemmas  # Store lemmas in the dictionary with index as key\n",
    "\n",
    "# Convert dictionary to a series and assign as a new column in the DataFrame\n",
    "combined_df['Lemmas'] = pd.Series(lemmas_dict)\n"
   ]
  },
  {
   "cell_type": "code",
   "execution_count": 54,
   "metadata": {},
   "outputs": [
    {
     "name": "stderr",
     "output_type": "stream",
     "text": [
      "/var/folders/kl/mfb9z6_d1290hf_1b38hg6zr0000gn/T/ipykernel_5711/3107880848.py:17: FutureWarning: Series.__getitem__ treating keys as positions is deprecated. In a future version, integer keys will always be treated as labels (consistent with DataFrame behavior). To access a value by position, use `ser.iloc[pos]`\n",
      "  word = row[0]  # Assuming the word is in the first column of the DataFrame\n",
      "/var/folders/kl/mfb9z6_d1290hf_1b38hg6zr0000gn/T/ipykernel_5711/3107880848.py:18: FutureWarning: Series.__getitem__ treating keys as positions is deprecated. In a future version, integer keys will always be treated as labels (consistent with DataFrame behavior). To access a value by position, use `ser.iloc[pos]`\n",
      "  frequency = row[1]  # Assuming the frequency is in the second column\n"
     ]
    },
    {
     "name": "stdout",
     "output_type": "stream",
     "text": [
      "\"em o\": 1251\n",
      "\"\": 938\n",
      "\"“\": 564\n",
      "\"”\": 552\n",
      "\"chega\": 536\n",
      "\"ventura\": 487\n",
      "\"partido\": 455\n",
      "\"andré\": 345\n",
      "\"por o\": 302\n",
      "\"deputado\": 217\n",
      "       Word  Frequency\n",
      "0      em o       1251\n",
      "1                  938\n",
      "2         “        564\n",
      "3         ”        552\n",
      "4     chega        536\n",
      "5   ventura        487\n",
      "6   partido        455\n",
      "7     andré        345\n",
      "8     por o        302\n",
      "9  deputado        217\n"
     ]
    },
    {
     "data": {
      "image/png": "[encoded data removed]",
      "text/plain": [
       "<Figure size 1000x600 with 1 Axes>"
      ]
     },
     "metadata": {},
     "output_type": "display_data"
    }
   ],
   "source": [
    "# Ensure all values in 'Lemmas' column are lists\n",
    "combined_df['Lemmas'] = combined_df['Lemmas'].apply(lambda x: x if isinstance(x, list) else [])\n",
    "\n",
    "# Word Count\n",
    "def w_counter(words):\n",
    "    word_freq = Counter(words)\n",
    "    common_words = word_freq.most_common()\n",
    "    word_freq_dict = {\"Word\": [word for word, freq in common_words], \"Frequency\": [freq for word, freq in common_words]}\n",
    "    return word_freq_dict\n",
    "\n",
    "all_words = [word for sublist in combined_df['Lemmas'] for word in sublist]\n",
    "\n",
    "word_freq = pd.DataFrame(w_counter(all_words))\n",
    "\n",
    "# Select the top 10 words by frequency\n",
    "for index, row in top_10_words.iterrows():\n",
    "    word = row[0]  # Assuming the word is in the first column of the DataFrame\n",
    "    frequency = row[1]  # Assuming the frequency is in the second column\n",
    "    print(f'\"{word}\": {frequency}')\n",
    "print(top_10_words)\n",
    "# Plot the top 10 words\n",
    "plt.figure(figsize=(10, 6))\n",
    "plt.bar(top_10_words['Word'], top_10_words['Frequency'], color='skyblue')\n",
    "plt.title(\"Top 10 Most Frequently Used Words\")\n",
    "plt.xlabel(\"Words\")\n",
    "plt.ylabel(\"Frequency\")\n",
    "plt.xticks(rotation=45)\n",
    "plt.tight_layout()\n",
    "plt.show()"
   ]
  },
  {
   "cell_type": "code",
   "execution_count": 55,
   "metadata": {},
   "outputs": [
    {
     "name": "stdout",
     "output_type": "stream",
     "text": [
      "Top 10 Bigrams: [(('andré', 'ventura'), 342), (('líder', 'chega'), 64), (('assembleia', 'república'), 58), (('chega', 'andré'), 38), (('antónio', 'costa'), 38), (('deputado', 'chega'), 35), (('presidente', 'república'), 35), (('rede', 'social'), 34), (('rui', 'rio'), 34), (('tribunal', 'constitucional'), 34)]\n",
      "Top 10 Trigrams: [(('chega', 'andré', 'ventura'), 38), (('marcelo', 'rebelo', 'sousa'), 32), (('presidente', 'assembleia', 'república'), 19), (('joacine', 'katar', 'moreira'), 19), (('deputado', 'único', 'chega'), 13), (('partido', 'andré', 'ventura'), 12), (('andré', 'ventura', 'afirmar'), 10), (('diogo', 'pacheco', 'amorim'), 10), (('comissão', 'igualdade', 'discriminação'), 9), (('dr.', 'rui', 'rio'), 9)]\n"
     ]
    }
   ],
   "source": [
    "def extract_ngrams(texts, n=2):\n",
    "    \"\"\"\n",
    "    Extract n-grams (bigrams or trigrams) from a list of texts.\n",
    "    \n",
    "    Parameters:\n",
    "    texts (list): List of sentences or reviews to extract n-grams from.\n",
    "    n (int): Number of words in each n-gram (e.g., 2 for bigrams, 3 for trigrams).\n",
    "    \n",
    "    Returns:\n",
    "    Counter: Frequency count of n-grams.\n",
    "    \"\"\"\n",
    "    ngrams = []\n",
    "    for doc in nlp.pipe(texts):  # Process each text in the list with SpaCy\n",
    "        tokens = [token.text for token in doc if not token.is_stop and not token.is_punct]\n",
    "        # ngrams += zip(*[tokens[i:] for i in range(n)])  # Create n-grams\n",
    "\n",
    "        # This way we ensure the n grams are all of the specified length\n",
    "        ngrams += [ngram for ngram in zip(*[tokens[i:] for i in range(n)]) if len(ngram) == n] \n",
    "    \n",
    "    return Counter(ngrams)\n",
    "\n",
    "# Example usage with bigrams and trigrams\n",
    "\n",
    "combined_df['Lemma_String'] = combined_df['Lemmas'].apply(lambda lemmas: \" \".join(lemmas))\n",
    "\n",
    "# Extract bigrams\n",
    "bigram_counts = extract_ngrams(combined_df['Lemma_String'], n=2)\n",
    "print(\"Top 10 Bigrams:\", bigram_counts.most_common(10))\n",
    "\n",
    "# Extract trigrams\n",
    "trigram_counts = extract_ngrams(combined_df['Lemma_String'], n=3)\n",
    "print(\"Top 10 Trigrams:\", trigram_counts.most_common(10))\n"
   ]
  },
  {
   "cell_type": "code",
   "execution_count": 44,
   "metadata": {},
   "outputs": [
    {
     "name": "stdout",
     "output_type": "stream",
     "text": [
      "Top 10 Bigrams: [(('andré', 'ventura'), 342), (('líder', 'chega'), 64), (('assembleia', 'república'), 58), (('chega', 'andré'), 38), (('antónio', 'costa'), 38), (('deputado', 'chega'), 35), (('presidente', 'república'), 35), (('rede', 'social'), 34), (('rui', 'rio'), 34), (('tribunal', 'constitucional'), 34), (('ana', 'gomes'), 33), (('marcelo', 'rebelo'), 32), (('rebelo', 'sousa'), 32), (('presidente', 'chega'), 26), (('presidente', 'assembleia'), 23), (('deputado', 'único'), 22), (('ferro', 'rodrigues'), 22), (('partido', 'extrema-direita'), 22), (('castração', 'químico'), 21), (('comunidade', 'cigano'), 21), (('iniciativa', 'liberal'), 21), (('bloco', 'esquerda'), 20), (('ministério', 'público'), 19), (('joacine', 'katar'), 19), (('katar', 'moreira'), 19), (('eleição', 'legislativo'), 19), (('eleição', 'presidencial'), 17), (('luís', 'montenegro'), 17), (('marisa', 'matias'), 16), (('chega', 'partido'), 15), (('pacheco', 'amorim'), 15), (('presidente', 'partido'), 14), (('direção', 'nacional'), 14), (('nacional', 'chega'), 14), (('ps', 'psd'), 14), (('partido', 'chega'), 13), (('proposta', 'chega'), 13), (('único', 'chega'), 13), (('ventura', 'afirmar'), 13), (('resultado', 'eleição'), 13), (('25', 'abril'), 13), (('partido', 'chegar'), 13), (('suspensão', 'mandato'), 13), (('líder', 'psd'), 13), (('partido', 'andré'), 12), (('joão', 'ferreira'), 12), (('linha', 'vermelho'), 12), (('etnia', 'cigano'), 12), (('agência', 'lusa'), 12), (('líder', 'parlamentar'), 11)]\n",
      "Top 10 Trigrams: [(('chega', 'andré', 'ventura'), 38), (('marcelo', 'rebelo', 'sousa'), 32), (('presidente', 'assembleia', 'república'), 19), (('joacine', 'katar', 'moreira'), 19), (('deputado', 'único', 'chega'), 13), (('partido', 'andré', 'ventura'), 12), (('andré', 'ventura', 'afirmar'), 10), (('diogo', 'pacheco', 'amorim'), 10), (('comissão', 'igualdade', 'discriminação'), 9), (('dr.', 'rui', 'rio'), 9), (('líder', 'chega', 'andré'), 9), (('afirmar', 'andré', 'ventura'), 9), (('deputado', 'andré', 'ventura'), 9), (('comissão', 'assuntos', 'constitucionais'), 8), (('deputado', 'chega', 'andré'), 8), (('direitos', 'liberdades', 'garantias'), 7), (('igualdade', 'discriminação', 'racial'), 7), (('deputado', 'assembleia', 'república'), 7), (('presidente', 'chega', 'andré'), 7), (('suspensão', 'mandato', 'deputado'), 7), (('tiago', 'sousa', 'dias'), 7), (('câmara', 'municipal', 'loures'), 7), (('assuntos', 'constitucionais', 'direitos'), 6), (('constitucionais', 'direitos', 'liberdades'), 6), (('marine', 'le', 'pen'), 6), (('pedro', 'delgado', 'alves'), 6), (('andré', 'ventura', 'líder'), 6), (('andré', 'ventura', 'chega'), 6), (('ministro', 'administração', 'interna'), 5), (('único', 'chega', 'andré'), 5), (('assembleia', 'república', 'ferro'), 5), (('república', 'ferro', 'rodrigues'), 5), (('liderar', 'andré', 'ventura'), 5), (('andré', 'ventura', 'pub'), 5), (('livre', 'joacine', 'katar'), 5), (('ana', 'catarina', 'mendes'), 5), (('deputado', 'líder', 'chega'), 5), (('primeiro-ministro', 'antónio', 'costa'), 5), (('professor', 'marcelo', 'rebelo'), 5), (('andré', 'ventura', 'querer'), 5), (('doutora', 'ana', 'gomes'), 5), (('andré', 'ventura', 'confirmar'), 5), (('declaração', 'andré', 'ventura'), 5), (('regimento', 'assembleia', 'república'), 5), (('josé', 'manuel', 'bolieiro'), 5), (('psd', 'cds-pp', 'ppm'), 5), (('candidato', 'psd', 'câmara'), 5), (('castração', 'químico', 'pedófilo'), 5), (('joão', 'cotrim', 'figueiredo'), 5), (('andré', 'ventura', 'chegar'), 5)]\n"
     ]
    }
   ],
   "source": [
    "print(\"Top 10 Bigrams:\", bigram_counts.most_common(50))\n",
    "\n",
    "\n",
    "print(\"Top 10 Trigrams:\", trigram_counts.most_common(50))"
   ]
  },
  {
   "cell_type": "markdown",
   "metadata": {},
   "source": [
    "Bear in mind that a lot of the bigrams and trigrams aren't relevant (they're associated with subscription, reading, and a lot of them have the same number of hits, which means it might make sense to remove them to see what is beneath.)"
   ]
  },
  {
   "cell_type": "code",
   "execution_count": 45,
   "metadata": {},
   "outputs": [
    {
     "name": "stdout",
     "output_type": "stream",
     "text": [
      "Least 50 Common Bigrams: [(('resolução', 'defender'), 1), (('defender', 'agente'), 1), (('segurança', 'nacional'), 1), (('dever', 'utilizar'), 1), (('utilizar', 'câmara'), 1), (('câmara', 'fardo'), 1), (('fardo', 'carros-patrulha'), 1), (('carros-patrulha', 'avançar'), 1), (('avançar', 'jornal'), 1), (('i.', 'partido'), 1), (('medida', 'objetivo'), 1), (('objetivo', 'avaliar'), 1), (('avaliar', 'situação'), 1), (('situação', 'independente'), 1), (('independente', 'evitandor'), 1), (('evitandor', 'troca'), 1), (('troca', 'acusação'), 1), (('acusação', 'força'), 1), (('segurança', 'cidadão'), 1), (('cidadão', 'acusar'), 1), (('acusar', 'brutalidade'), 1), (('brutalidade', 'chega'), 1), (('afirmar', 'método'), 1), (('método', 'ajudar'), 1), (('ajudar', 'proteger'), 1), (('proteger', 'polícia'), 1), (('polícia', 'tornar'), 1), (('tornar', 'atuação'), 1), (('atuação', 'transparente'), 1), (('transparente', 'proposta'), 1), (('proposta', 'chegar'), 1), (('chegar', 'altura'), 1), (('altura', 'força'), 1), (('força', 'policial'), 1), (('policial', 'encontrar'), 1), (('encontrar', 'forte'), 1), (('forte', 'pressão'), 1), (('pressão', 'sociedade'), 1), (('sociedade', 'muitas'), 1), (('muitas', 'injustificado'), 1), (('injustificado', 'valorizar'), 1), (('valorizar', 'real'), 1), (('real', 'importância'), 1), (('importância', 'função'), 1), (('função', 'diariamente'), 1), (('diariamente', 'desempenhar'), 1), (('desempenhar', 'partido'), 1), (('partido', 'imagem'), 1), (('imagem', 'captar'), 1), (('captar', 'prova'), 1)]\n",
      "Least 50 Common Trigrams: [(('partido', 'chega', 'apresentar'), 1), (('chega', 'apresentar', 'projeto'), 1), (('apresentar', 'projeto', 'resolução'), 1), (('projeto', 'resolução', 'defender'), 1), (('resolução', 'defender', 'agente'), 1), (('defender', 'agente', 'força'), 1), (('força', 'segurança', 'nacional'), 1), (('segurança', 'nacional', 'dever'), 1), (('nacional', 'dever', 'utilizar'), 1), (('dever', 'utilizar', 'câmara'), 1), (('utilizar', 'câmara', 'fardo'), 1), (('câmara', 'fardo', 'carros-patrulha'), 1), (('fardo', 'carros-patrulha', 'avançar'), 1), (('carros-patrulha', 'avançar', 'jornal'), 1), (('avançar', 'jornal', 'i.'), 1), (('jornal', 'i.', 'partido'), 1), (('i.', 'partido', 'andré'), 1), (('ventura', 'referir', 'medida'), 1), (('referir', 'medida', 'objetivo'), 1), (('medida', 'objetivo', 'avaliar'), 1), (('objetivo', 'avaliar', 'situação'), 1), (('avaliar', 'situação', 'independente'), 1), (('situação', 'independente', 'evitandor'), 1), (('independente', 'evitandor', 'troca'), 1), (('evitandor', 'troca', 'acusação'), 1), (('troca', 'acusação', 'força'), 1), (('acusação', 'força', 'segurança'), 1), (('força', 'segurança', 'cidadão'), 1), (('segurança', 'cidadão', 'acusar'), 1), (('cidadão', 'acusar', 'brutalidade'), 1), (('acusar', 'brutalidade', 'chega'), 1), (('brutalidade', 'chega', 'afirmar'), 1), (('chega', 'afirmar', 'método'), 1), (('afirmar', 'método', 'ajudar'), 1), (('método', 'ajudar', 'proteger'), 1), (('ajudar', 'proteger', 'polícia'), 1), (('proteger', 'polícia', 'tornar'), 1), (('polícia', 'tornar', 'atuação'), 1), (('tornar', 'atuação', 'transparente'), 1), (('atuação', 'transparente', 'proposta'), 1), (('transparente', 'proposta', 'chegar'), 1), (('proposta', 'chegar', 'altura'), 1), (('chegar', 'altura', 'força'), 1), (('altura', 'força', 'policial'), 1), (('força', 'policial', 'encontrar'), 1), (('policial', 'encontrar', 'forte'), 1), (('encontrar', 'forte', 'pressão'), 1), (('forte', 'pressão', 'sociedade'), 1), (('pressão', 'sociedade', 'muitas'), 1), (('sociedade', 'muitas', 'injustificado'), 1)]\n"
     ]
    }
   ],
   "source": [
    "least_common_bigrams = sorted(bigram_counts.items(), key=lambda x: x[1])[:50]\n",
    "print(\"Least 50 Common Bigrams:\", least_common_bigrams)\n",
    "\n",
    "# Display the least common trigrams\n",
    "least_common_trigrams = sorted(trigram_counts.items(), key=lambda x: x[1])[:50]\n",
    "print(\"Least 50 Common Trigrams:\", least_common_trigrams)"
   ]
  }
 ],
 "metadata": {
  "kernelspec": {
   "display_name": "masters",
   "language": "python",
   "name": "python3"
  },
  "language_info": {
   "codemirror_mode": {
    "name": "ipython",
    "version": 3
   },
   "file_extension": ".py",
   "mimetype": "text/x-python",
   "name": "python",
   "nbconvert_exporter": "python",
   "pygments_lexer": "ipython3",
   "version": "3.9.13"
  }
 },
 "nbformat": 4,
 "nbformat_minor": 2
}
