{
 "cells": [
  {
   "cell_type": "code",
   "execution_count": 2,
   "metadata": {},
   "outputs": [],
   "source": [
    "import pandas as pd\n",
    "from textblob import TextBlob\n",
    "import deepl"
   ]
  },
  {
   "cell_type": "markdown",
   "metadata": {},
   "source": [
    "# Trying some stuff with sentimental analysis"
   ]
  },
  {
   "cell_type": "code",
   "execution_count": 3,
   "metadata": {},
   "outputs": [
    {
     "data": {
      "text/html": [
       "<div>\n",
       "<style scoped>\n",
       "    .dataframe tbody tr th:only-of-type {\n",
       "        vertical-align: middle;\n",
       "    }\n",
       "\n",
       "    .dataframe tbody tr th {\n",
       "        vertical-align: top;\n",
       "    }\n",
       "\n",
       "    .dataframe thead th {\n",
       "        text-align: right;\n",
       "    }\n",
       "</style>\n",
       "<table border=\"1\" class=\"dataframe\">\n",
       "  <thead>\n",
       "    <tr style=\"text-align: right;\">\n",
       "      <th></th>\n",
       "      <th>url</th>\n",
       "      <th>timestamp</th>\n",
       "      <th>processed_url_text</th>\n",
       "      <th>newspaper</th>\n",
       "      <th>arquivo_url</th>\n",
       "      <th>Unnamed: 0</th>\n",
       "      <th>title</th>\n",
       "      <th>authors</th>\n",
       "      <th>publish_date</th>\n",
       "      <th>text</th>\n",
       "    </tr>\n",
       "  </thead>\n",
       "  <tbody>\n",
       "    <tr>\n",
       "      <th>0</th>\n",
       "      <td>https://www.cmjornal.pt/politica/amp/ex-dirige...</td>\n",
       "      <td>20200131190415</td>\n",
       "      <td>ex dirigente do chega admite ter estado ligado...</td>\n",
       "      <td>cmjornal.pt/</td>\n",
       "      <td>https://arquivo.pt/noFrame/replay/202001311904...</td>\n",
       "      <td>0.0</td>\n",
       "      <td>Ex-dirigente do Chega admite ter estado ligado...</td>\n",
       "      <td>[]</td>\n",
       "      <td>NaN</td>\n",
       "      <td>O ex-conselheiro nacional do Chega Tiago Monte...</td>\n",
       "    </tr>\n",
       "    <tr>\n",
       "      <th>1</th>\n",
       "      <td>https://www.cmjornal.pt/politica/amp/salazar-e...</td>\n",
       "      <td>20200518020724</td>\n",
       "      <td>salazar era um bom homem jotas do chega perten...</td>\n",
       "      <td>cmjornal.pt/</td>\n",
       "      <td>https://arquivo.pt/noFrame/replay/202005180207...</td>\n",
       "      <td>1.0</td>\n",
       "      <td>\"Salazar era um bom homem\": Jotas do Chega per...</td>\n",
       "      <td>[]</td>\n",
       "      <td>NaN</td>\n",
       "      <td>Além destas frases racistas e salazaristas, pu...</td>\n",
       "    </tr>\n",
       "    <tr>\n",
       "      <th>2</th>\n",
       "      <td>https://www.cmjornal.pt/politica/detalhe/be-di...</td>\n",
       "      <td>20200205010912</td>\n",
       "      <td>be diz que nao ha gente seria na bancada do ch...</td>\n",
       "      <td>cmjornal.pt/</td>\n",
       "      <td>https://arquivo.pt/noFrame/replay/202002050109...</td>\n",
       "      <td>2.0</td>\n",
       "      <td>NaN</td>\n",
       "      <td>NaN</td>\n",
       "      <td>NaN</td>\n",
       "      <td>\"O que falta no PS são socialistas\", acusou Ve...</td>\n",
       "    </tr>\n",
       "    <tr>\n",
       "      <th>3</th>\n",
       "      <td>https://www.cmjornal.pt/politica/amp/andre-ven...</td>\n",
       "      <td>20200208182812</td>\n",
       "      <td>andre ventura anuncia candidatura a presidenci...</td>\n",
       "      <td>cmjornal.pt/</td>\n",
       "      <td>https://arquivo.pt/noFrame/replay/202002081828...</td>\n",
       "      <td>6.0</td>\n",
       "      <td>NaN</td>\n",
       "      <td>NaN</td>\n",
       "      <td>NaN</td>\n",
       "      <td>Your browser doesn’t support HTML5 video\\n\\nO ...</td>\n",
       "    </tr>\n",
       "    <tr>\n",
       "      <th>4</th>\n",
       "      <td>https://www.cmjornal.pt/politica/amp/andre-ven...</td>\n",
       "      <td>20200112192206</td>\n",
       "      <td>andre ventura anuncia decisao sobre candidatur...</td>\n",
       "      <td>cmjornal.pt/</td>\n",
       "      <td>https://arquivo.pt/noFrame/replay/202001121922...</td>\n",
       "      <td>7.0</td>\n",
       "      <td>NaN</td>\n",
       "      <td>NaN</td>\n",
       "      <td>NaN</td>\n",
       "      <td>O líder do Chega, André Ventura, admitiu este ...</td>\n",
       "    </tr>\n",
       "  </tbody>\n",
       "</table>\n",
       "</div>"
      ],
      "text/plain": [
       "                                                 url       timestamp  \\\n",
       "0  https://www.cmjornal.pt/politica/amp/ex-dirige...  20200131190415   \n",
       "1  https://www.cmjornal.pt/politica/amp/salazar-e...  20200518020724   \n",
       "2  https://www.cmjornal.pt/politica/detalhe/be-di...  20200205010912   \n",
       "3  https://www.cmjornal.pt/politica/amp/andre-ven...  20200208182812   \n",
       "4  https://www.cmjornal.pt/politica/amp/andre-ven...  20200112192206   \n",
       "\n",
       "                                  processed_url_text     newspaper  \\\n",
       "0  ex dirigente do chega admite ter estado ligado...  cmjornal.pt/   \n",
       "1  salazar era um bom homem jotas do chega perten...  cmjornal.pt/   \n",
       "2  be diz que nao ha gente seria na bancada do ch...  cmjornal.pt/   \n",
       "3  andre ventura anuncia candidatura a presidenci...  cmjornal.pt/   \n",
       "4  andre ventura anuncia decisao sobre candidatur...  cmjornal.pt/   \n",
       "\n",
       "                                         arquivo_url  Unnamed: 0  \\\n",
       "0  https://arquivo.pt/noFrame/replay/202001311904...         0.0   \n",
       "1  https://arquivo.pt/noFrame/replay/202005180207...         1.0   \n",
       "2  https://arquivo.pt/noFrame/replay/202002050109...         2.0   \n",
       "3  https://arquivo.pt/noFrame/replay/202002081828...         6.0   \n",
       "4  https://arquivo.pt/noFrame/replay/202001121922...         7.0   \n",
       "\n",
       "                                               title authors  publish_date  \\\n",
       "0  Ex-dirigente do Chega admite ter estado ligado...      []           NaN   \n",
       "1  \"Salazar era um bom homem\": Jotas do Chega per...      []           NaN   \n",
       "2                                                NaN     NaN           NaN   \n",
       "3                                                NaN     NaN           NaN   \n",
       "4                                                NaN     NaN           NaN   \n",
       "\n",
       "                                                text  \n",
       "0  O ex-conselheiro nacional do Chega Tiago Monte...  \n",
       "1  Além destas frases racistas e salazaristas, pu...  \n",
       "2  \"O que falta no PS são socialistas\", acusou Ve...  \n",
       "3  Your browser doesn’t support HTML5 video\\n\\nO ...  \n",
       "4  O líder do Chega, André Ventura, admitiu este ...  "
      ]
     },
     "execution_count": 3,
     "metadata": {},
     "output_type": "execute_result"
    }
   ],
   "source": [
    "data = pd.read_csv(\"ultimate_dataset.csv\")\n",
    "data.head()"
   ]
  },
  {
   "cell_type": "code",
   "execution_count": 4,
   "metadata": {},
   "outputs": [],
   "source": [
    "# maybe use bag of words and text blob"
   ]
  },
  {
   "cell_type": "markdown",
   "metadata": {},
   "source": [
    "- Creating a new .csv-file where the ultimate_dataset.csv is stored + 2 additional columns: the article text in german and the mood column.\n",
    "- then manually rate between 150 and 200 article texts moods:\n",
    "    - -1 bad to chega\n",
    "    -  0 neutral to chega\n",
    "    - 1 positive to chega\n",
    "\n",
    "DeepL API is used for translation\n"
   ]
  },
  {
   "cell_type": "code",
   "execution_count": 5,
   "metadata": {},
   "outputs": [],
   "source": [
    "# setting up deepl usage:\n",
    "auth_key = \"bb4813e5-e7c2-453b-9b2d-46e180eabc40:fx\"  # Replace with your key\n",
    "translator = deepl.Translator(auth_key)"
   ]
  },
  {
   "cell_type": "code",
   "execution_count": 7,
   "metadata": {},
   "outputs": [],
   "source": [
    "# creating new dataframe\n",
    "new_df = data\n",
    "\n",
    "# setting up DeepL translator\n",
    "translator = deepl.Translator(auth_key)"
   ]
  },
  {
   "cell_type": "code",
   "execution_count": 8,
   "metadata": {},
   "outputs": [
    {
     "ename": "QuotaExceededException",
     "evalue": "Quota for this billing period has been exceeded, message: Quota Exceeded",
     "output_type": "error",
     "traceback": [
      "\u001b[0;31m---------------------------------------------------------------------------\u001b[0m",
      "\u001b[0;31mQuotaExceededException\u001b[0m                    Traceback (most recent call last)",
      "Cell \u001b[0;32mIn[8], line 5\u001b[0m\n\u001b[1;32m      1\u001b[0m \u001b[38;5;66;03m# iterating through df, translating the article text and append it in the new column\u001b[39;00m\n\u001b[1;32m      3\u001b[0m \u001b[38;5;28;01mfor\u001b[39;00m index, row \u001b[38;5;129;01min\u001b[39;00m data\u001b[38;5;241m.\u001b[39miterrows():\n\u001b[1;32m      4\u001b[0m     \u001b[38;5;66;03m# print(row[\"text\"])\u001b[39;00m\n\u001b[0;32m----> 5\u001b[0m     new_df[\u001b[38;5;124m\"\u001b[39m\u001b[38;5;124mtext_translated_de\u001b[39m\u001b[38;5;124m\"\u001b[39m] \u001b[38;5;241m=\u001b[39m \u001b[43mtranslator\u001b[49m\u001b[38;5;241;43m.\u001b[39;49m\u001b[43mtranslate_text\u001b[49m\u001b[43m(\u001b[49m\u001b[43mrow\u001b[49m\u001b[43m[\u001b[49m\u001b[38;5;124;43m\"\u001b[39;49m\u001b[38;5;124;43mtext\u001b[39;49m\u001b[38;5;124;43m\"\u001b[39;49m\u001b[43m]\u001b[49m\u001b[43m,\u001b[49m\u001b[43m \u001b[49m\u001b[43mtarget_lang\u001b[49m\u001b[38;5;241;43m=\u001b[39;49m\u001b[38;5;124;43m\"\u001b[39;49m\u001b[38;5;124;43mDE\u001b[39;49m\u001b[38;5;124;43m\"\u001b[39;49m\u001b[43m)\u001b[49m\n",
      "File \u001b[0;32m~/opt/anaconda3/envs/FDS_env/lib/python3.9/site-packages/deepl/translator.py:455\u001b[0m, in \u001b[0;36mTranslator.translate_text\u001b[0;34m(self, text, source_lang, target_lang, context, split_sentences, preserve_formatting, formality, glossary, tag_handling, outline_detection, non_splitting_tags, splitting_tags, ignore_tags, model_type)\u001b[0m\n\u001b[1;32m    449\u001b[0m     request_data[\u001b[38;5;124m\"\u001b[39m\u001b[38;5;124mignore_tags\u001b[39m\u001b[38;5;124m\"\u001b[39m] \u001b[38;5;241m=\u001b[39m join_tags(ignore_tags)\n\u001b[1;32m    451\u001b[0m status, content, json \u001b[38;5;241m=\u001b[39m \u001b[38;5;28mself\u001b[39m\u001b[38;5;241m.\u001b[39m_api_call(\n\u001b[1;32m    452\u001b[0m     \u001b[38;5;124m\"\u001b[39m\u001b[38;5;124mv2/translate\u001b[39m\u001b[38;5;124m\"\u001b[39m, json\u001b[38;5;241m=\u001b[39mrequest_data\n\u001b[1;32m    453\u001b[0m )\n\u001b[0;32m--> 455\u001b[0m \u001b[38;5;28;43mself\u001b[39;49m\u001b[38;5;241;43m.\u001b[39;49m\u001b[43m_raise_for_status\u001b[49m\u001b[43m(\u001b[49m\u001b[43mstatus\u001b[49m\u001b[43m,\u001b[49m\u001b[43m \u001b[49m\u001b[43mcontent\u001b[49m\u001b[43m,\u001b[49m\u001b[43m \u001b[49m\u001b[43mjson\u001b[49m\u001b[43m)\u001b[49m\n\u001b[1;32m    457\u001b[0m translations \u001b[38;5;241m=\u001b[39m (\n\u001b[1;32m    458\u001b[0m     json\u001b[38;5;241m.\u001b[39mget(\u001b[38;5;124m\"\u001b[39m\u001b[38;5;124mtranslations\u001b[39m\u001b[38;5;124m\"\u001b[39m, [])\n\u001b[1;32m    459\u001b[0m     \u001b[38;5;28;01mif\u001b[39;00m (json \u001b[38;5;129;01mand\u001b[39;00m \u001b[38;5;28misinstance\u001b[39m(json, \u001b[38;5;28mdict\u001b[39m))\n\u001b[1;32m    460\u001b[0m     \u001b[38;5;28;01melse\u001b[39;00m []\n\u001b[1;32m    461\u001b[0m )\n\u001b[1;32m    462\u001b[0m output \u001b[38;5;241m=\u001b[39m []\n",
      "File \u001b[0;32m~/opt/anaconda3/envs/FDS_env/lib/python3.9/site-packages/deepl/translator.py:189\u001b[0m, in \u001b[0;36mTranslator._raise_for_status\u001b[0;34m(self, status_code, content, json, glossary, downloading_document)\u001b[0m\n\u001b[1;32m    184\u001b[0m     \u001b[38;5;28;01mraise\u001b[39;00m AuthorizationException(\n\u001b[1;32m    185\u001b[0m         \u001b[38;5;124mf\u001b[39m\u001b[38;5;124m\"\u001b[39m\u001b[38;5;124mAuthorization failure, check auth_key\u001b[39m\u001b[38;5;132;01m{\u001b[39;00mmessage\u001b[38;5;132;01m}\u001b[39;00m\u001b[38;5;124m\"\u001b[39m,\n\u001b[1;32m    186\u001b[0m         http_status_code\u001b[38;5;241m=\u001b[39mstatus_code,\n\u001b[1;32m    187\u001b[0m     )\n\u001b[1;32m    188\u001b[0m \u001b[38;5;28;01melif\u001b[39;00m status_code \u001b[38;5;241m==\u001b[39m \u001b[38;5;28mself\u001b[39m\u001b[38;5;241m.\u001b[39m_HTTP_STATUS_QUOTA_EXCEEDED:\n\u001b[0;32m--> 189\u001b[0m     \u001b[38;5;28;01mraise\u001b[39;00m QuotaExceededException(\n\u001b[1;32m    190\u001b[0m         \u001b[38;5;124mf\u001b[39m\u001b[38;5;124m\"\u001b[39m\u001b[38;5;124mQuota for this billing period has been exceeded\u001b[39m\u001b[38;5;132;01m{\u001b[39;00mmessage\u001b[38;5;132;01m}\u001b[39;00m\u001b[38;5;124m\"\u001b[39m,\n\u001b[1;32m    191\u001b[0m         http_status_code\u001b[38;5;241m=\u001b[39mstatus_code,\n\u001b[1;32m    192\u001b[0m     )\n\u001b[1;32m    193\u001b[0m \u001b[38;5;28;01melif\u001b[39;00m status_code \u001b[38;5;241m==\u001b[39m http\u001b[38;5;241m.\u001b[39mHTTPStatus\u001b[38;5;241m.\u001b[39mNOT_FOUND:\n\u001b[1;32m    194\u001b[0m     \u001b[38;5;28;01mif\u001b[39;00m glossary:\n",
      "\u001b[0;31mQuotaExceededException\u001b[0m: Quota for this billing period has been exceeded, message: Quota Exceeded"
     ]
    }
   ],
   "source": [
    "# iterating through df, translating the article text and append it in the new column\n",
    "\n",
    "for index, row in data.iterrows():\n",
    "    # print(row[\"text\"])\n",
    "    new_df[\"text_translated_de\"] = translator.translate_text(row[\"text\"], target_lang=\"DE\")\n",
    "    "
   ]
  },
  {
   "cell_type": "code",
   "execution_count": null,
   "metadata": {},
   "outputs": [],
   "source": []
  }
 ],
 "metadata": {
  "kernelspec": {
   "display_name": "FDS_env",
   "language": "python",
   "name": "python3"
  },
  "language_info": {
   "codemirror_mode": {
    "name": "ipython",
    "version": 3
   },
   "file_extension": ".py",
   "mimetype": "text/x-python",
   "name": "python",
   "nbconvert_exporter": "python",
   "pygments_lexer": "ipython3",
   "version": "3.9.20"
  }
 },
 "nbformat": 4,
 "nbformat_minor": 2
}
