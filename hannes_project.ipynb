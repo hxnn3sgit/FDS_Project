{
 "cells": [
  {
   "cell_type": "markdown",
   "metadata": {},
   "source": [
    "##### Saving words from newspaper titles in textfiles"
   ]
  },
  {
   "cell_type": "code",
   "execution_count": 3,
   "metadata": {},
   "outputs": [
    {
     "name": "stdout",
     "output_type": "stream",
     "text": [
      "Titles extracted and written to 'titles.txt'.\n"
     ]
    }
   ],
   "source": [
    "import json\n",
    "\n",
    "# Path to the JSON file\n",
    "json_file_path = 'cdx_results_2019.json'\n",
    "\n",
    "# Open and load the JSON file\n",
    "with open(json_file_path, 'r') as file:\n",
    "    data = json.load(file)\n",
    "\n",
    "# List to store the URLs\n",
    "urls = []\n",
    "\n",
    "# Loop through the data and extract 'url' values\n",
    "for entry in data:\n",
    "    if 'url' in entry:  # Check if 'url' key exists\n",
    "        urls.append(entry['url'])  # Add the URL to the list\n",
    "\n",
    "# Open a file to write the results\n",
    "with open(\"titles.txt\", \"w\") as file:\n",
    "    # Loop through each URL\n",
    "    for url in urls:\n",
    "        # Remove 'https://' and split the URL at slashes\n",
    "        parts = url.split('/')\n",
    "        \n",
    "        # Extract the last part after the slash, which usually contains the title\n",
    "        title_with_params = parts[-1]\n",
    "        \n",
    "        # Remove any parameters (everything after '?')\n",
    "        title = title_with_params.split('?')[0]\n",
    "        \n",
    "        # Replace hyphens with spaces to improve readability\n",
    "        formatted_title = title.replace('-', ' ')\n",
    "        \n",
    "        # Write the formatted title to the file\n",
    "        file.write(f\"{formatted_title}\\n\")\n",
    "\n",
    "print(\"Titles extracted and written to 'titles.txt'.\")\n",
    "\n",
    "# maybe store urls and words wich belong togethers in a dictionary"
   ]
  },
  {
   "cell_type": "code",
   "execution_count": 4,
   "metadata": {},
   "outputs": [],
   "source": [
    "import json\n",
    "\n",
    "# Function to split the URL into words from the title\n",
    "def split_url_in_words(url):\n",
    "    # Remove 'https://' and split the URL at slashes\n",
    "    parts = url.split('/')\n",
    "    \n",
    "    # Extract the last part after the slash, which usually contains the title\n",
    "    title_with_params = parts[-1]\n",
    "    \n",
    "    # Remove any parameters (everything after '?')\n",
    "    title = title_with_params.split('?')[0]\n",
    "    \n",
    "    # Replace hyphens with spaces to improve readability\n",
    "    formatted_title = title.replace('-', ' ')\n",
    "    \n",
    "    # Return the split words\n",
    "    return formatted_title\n",
    "\n",
    "# Path to the JSON file\n",
    "json_file_path = 'cdx_results_2019.json'\n",
    "\n",
    "# Open and load the JSON file\n",
    "with open(json_file_path, 'r') as file:\n",
    "    data = json.load(file)\n",
    "\n",
    "# Empty dictionary to store the URLs as keys and the split title words as values\n",
    "urls = {}\n",
    "\n",
    "# Iterate through the JSON data\n",
    "for entry in data:\n",
    "    if 'url' in entry:\n",
    "        #url = entry['url']  # Get the full URL\n",
    "        #split_title = split_url_in_words(url)  # Split the URL title into words\n",
    "        #urls[str(entry['url'])] = split_title  # Store the URL as key and split title as value\n",
    "        urls[str(entry['url'])] = split_url_in_words(entry['url'])\n",
    "\n",
    "# Writing dictionary to a textfile\n",
    "with open('urls_titles.json', 'w') as output_file:\n",
    "    json.dump(urls, output_file, indent=4)"
   ]
  },
  {
   "cell_type": "markdown",
   "metadata": {},
   "source": [
    " Trying to scrape only the < title > elements in the links and look up if Chega is written as: 'Chega' or 'CHEGA':"
   ]
  },
  {
   "cell_type": "code",
   "execution_count": 11,
   "metadata": {},
   "outputs": [
    {
     "name": "stdout",
     "output_type": "stream",
     "text": [
      "Timeout occurred for URL: https://www.jn.pt/ntv/interior/lourenco-ortigao-e-kelly-bailey-dao-tudo-e-mais-alguma-coisa-mas-nao-chega-10616299.html\n",
      "https://www.cmjornal.pt/politica/amp/andre-ventura-diz-chega-vai-impedir-extrema-direita-em-portugal André Ventura diz que Chega vai impedir extrema-direita em Portugal - Política - Correio da Manhã\n",
      "https://www.cmjornal.pt/politica/amp/partido-chega-de-andre-ventura-inicia-formalizacao-para-ser-alternativa-a-direita-que-parece-nao-existir Partido 'CHEGA' inicia formalização para ser alternativa \"à direita que parece não existir\"  - Política - Correio da Manhã\n"
     ]
    }
   ],
   "source": [
    "import json\n",
    "import requests\n",
    "from bs4 import BeautifulSoup\n",
    "import time\n",
    "\n",
    "# Path to the JSON file\n",
    "file_name = 'test_for_scraping_cdx_results.json'\n",
    "\n",
    "# Open and load the JSON file\n",
    "with open(file_name, 'r') as file:\n",
    "    data = json.load(file)\n",
    "\n",
    "titles = {}\n",
    "\n",
    "# Loop through URLs; search for the title element in HTML-Script\n",
    "for v in data:\n",
    "    url = v['url']\n",
    "    \n",
    "    try:\n",
    "        # Requesting the website and setting a timeout of 10 seconds\n",
    "        response = requests.get(url, timeout=10, stream=True) # stream=True for downloading data in chunks not everything at once \n",
    "        \n",
    "        # Delay between requests to avoid overloading the server\n",
    "        time.sleep(1)  # 1-second delay\n",
    "\n",
    "        # Initialize an empty content variable and stream content chunks\n",
    "        html_content = b\"\"\n",
    "        \n",
    "        # Stream the content until we find the closing </title> tag\n",
    "        for chunk in response.iter_content(chunk_size=512):\n",
    "            html_content += chunk\n",
    "            if b\"</title>\" in html_content:\n",
    "                break  # Stop streaming once the <title> tag is found\n",
    "\n",
    "        # Parse only the partial content with BeautifulSoup\n",
    "        soup = BeautifulSoup(html_content, \"html.parser\")\n",
    "\n",
    "        # Extract the <title> element\n",
    "        title_tag = soup.find(\"title\")\n",
    "\n",
    "        # If no <title> tag is found, skip this page, makes program faster\n",
    "        if not title_tag:\n",
    "            continue\n",
    "\n",
    "        # Extract the text from the <title> tag\n",
    "        title_text = title_tag.get_text()\n",
    "\n",
    "        # Check for \"Chega\" or \"CHEGA\" (case-sensitive check)\n",
    "        if \"Chega\" in title_text or \"CHEGA\" in title_text:\n",
    "            titles[url] = title_text  # Store the URL and title in the dictionary\n",
    "\n",
    "    except requests.exceptions.Timeout:\n",
    "        print(f\"Timeout occurred for URL: {url}\")\n",
    "        continue  # Skip to the next URL if a timeout occurs\n",
    "\n",
    "    except requests.exceptions.RequestException as e:\n",
    "        print(f\"Request failed for URL: {url} with error: {e}\")\n",
    "        continue  # Skip to the next URL if another error occurs\n",
    "\n",
    "# Writing the dictionary to a JSON file\n",
    "with open('titles.json', 'w', encoding='utf-8') as json_file:\n",
    "    json.dump(titles, json_file, indent=4, ensure_ascii=False)\n",
    "\n",
    "# Print the results, only for debugging, to remove later\n",
    "for url, title in titles.items():\n",
    "    print(url, title)"
   ]
  },
  {
   "cell_type": "code",
   "execution_count": 9,
   "metadata": {},
   "outputs": [
    {
     "name": "stdout",
     "output_type": "stream",
     "text": [
      "https://www.cmjornal.pt/politica/amp/andre-ventura-diz-chega-vai-impedir-extrema-direita-em-portugal: André Ventura diz que Chega vai impedir extrema-direita em Portugal - Política - Correio da Manhã\n",
      "https://www.cmjornal.pt/politica/amp/partido-chega-de-andre-ventura-inicia-formalizacao-para-ser-alternativa-a-direita-que-parece-nao-existir: Partido 'CHEGA' inicia formalização para ser alternativa \"à direita que parece não existir\"  - Política - Correio da Manhã\n"
     ]
    }
   ],
   "source": [
    "# Debug output:\n",
    "\n",
    "for url, title in titles.items():\n",
    "    print(f'{url}: {title}')"
   ]
  }
 ],
 "metadata": {
  "kernelspec": {
   "display_name": "base",
   "language": "python",
   "name": "python3"
  },
  "language_info": {
   "codemirror_mode": {
    "name": "ipython",
    "version": 3
   },
   "file_extension": ".py",
   "mimetype": "text/x-python",
   "name": "python",
   "nbconvert_exporter": "python",
   "pygments_lexer": "ipython3",
   "version": "3.9.13"
  }
 },
 "nbformat": 4,
 "nbformat_minor": 2
}
