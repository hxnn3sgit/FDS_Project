{
 "cells": [
  {
   "cell_type": "markdown",
   "metadata": {},
   "source": [
    "##### Testing to retreive Data through CDX API"
   ]
  },
  {
   "cell_type": "code",
   "execution_count": 18,
   "metadata": {},
   "outputs": [],
   "source": [
    "import requests\n",
    "from bs4 import BeautifulSoup\n",
    "\n",
    "# CDX API base URL\n",
    "cdx_api_url = \"http://web.archive.org/cdx/search/cdx\"\n",
    "\n",
    "# Set the parameters for the CDX API request\n",
    "params = {\n",
    "    \"url\": \"publico.pt\",  # News domain\n",
    "    \"from\": \"20190101\",   # Start date (2019)\n",
    "    \"to\": \"20190110\",     # End date (2019)\n",
    "    \"output\": \"json\",     # Return output in JSON format\n",
    "    \"filter\": \"statuscode:200\",  # Only return pages that successfully loaded\n",
    "    \"collapse\": \"urlkey\",  # Collapse identical URLs to avoid duplicates\n",
    "    \"matchType\": \"prefix\",  # Match URLs that start with the domain\n",
    "    \"limit\": 10  # Limit the number of results (you can adjust this)\n",
    "}\n",
    "\n",
    "# Open a file to write the results\n",
    "with open(\"results.txt\", \"w\") as file:\n",
    "    # Send a request to the CDX API\n",
    "    response = requests.get(cdx_api_url, params=params)\n",
    "\n",
    "    # Check if the request was successful\n",
    "    if response.status_code == 200:\n",
    "        # Parse the response JSON (CDX API returns a list of metadata for URLs)\n",
    "        data = response.json()\n",
    "        \n",
    "        # Loop over each entry in the JSON data\n",
    "        for entry in data:\n",
    "            # Get the URL and timestamp of the archived page\n",
    "            timestamp = entry[1]\n",
    "            original_url = entry[2]\n",
    "\n",
    "            # Construct the archived URL for Wayback Machine\n",
    "            archived_url = f\"https://web.archive.org/web/{timestamp}/{original_url}\"\n",
    "            file.write(f\"Fetching archived URL: {archived_url}\\n\")\n",
    "            \n",
    "            # Now make a request to the archived page\n",
    "            archived_page_response = requests.get(archived_url)\n",
    "            \n",
    "            # Check if the archived page request was successful\n",
    "            if archived_page_response.status_code == 200:\n",
    "                # Parse the page content using BeautifulSoup\n",
    "                soup = BeautifulSoup(archived_page_response.content, 'html.parser')\n",
    "                \n",
    "                # Find all heading tags (h1, h2, h3, h4, h5, h6)\n",
    "                heading_tags = soup.find_all(['h1', 'h2', 'h3', 'h4', 'h5', 'h6'])\n",
    "\n",
    "                # List of keywords to search for\n",
    "                keywords = [\"Chega\", \"André Ventura\", \"Mário Machado\"]\n",
    "                \n",
    "                # Loop through the heading tags and print their text\n",
    "                for heading in heading_tags:\n",
    "                    heading_text = heading.get_text()\n",
    "                    file.write(f\"Heading found: {heading_text}\\n\")\n",
    "                    \n",
    "                    for keyword in keywords:\n",
    "                        if keyword in heading_text:\n",
    "                            file.write(f\"Keyword '{keyword}' mentioned in heading\\n\")\n",
    "            else:\n",
    "                file.write(f\"Error fetching archived page: {archived_page_response.status_code}\\n\")\n",
    "    else:\n",
    "        file.write(f\"Error retrieving data from CDX API: {response.status_code}\\n\")"
   ]
  },
  {
   "cell_type": "code",
   "execution_count": 16,
   "metadata": {},
   "outputs": [
    {
     "name": "stdout",
     "output_type": "stream",
     "text": [
      "Titles extracted and written to 'titles.txt'.\n"
     ]
    }
   ],
   "source": [
    "import json\n",
    "\n",
    "# Path to the JSON file\n",
    "json_file_path = 'cdx_results.json'\n",
    "\n",
    "# Open and load the JSON file\n",
    "with open(json_file_path, 'r') as file:\n",
    "    data = json.load(file)\n",
    "\n",
    "# List to store the URLs\n",
    "urls = []\n",
    "\n",
    "# Loop through the data and extract 'url' values\n",
    "for entry in data:\n",
    "    if 'url' in entry:  # Check if 'url' key exists\n",
    "        urls.append(entry['url'])  # Add the URL to the list\n",
    "\n",
    "# Open a file to write the results\n",
    "with open(\"titles.txt\", \"w\") as file:\n",
    "    # Loop through each URL\n",
    "    for url in urls:\n",
    "        # Remove 'https://' and split the URL at slashes\n",
    "        parts = url.split('/')\n",
    "        \n",
    "        # Extract the last part after the slash, which usually contains the title\n",
    "        title_with_params = parts[-1]\n",
    "        \n",
    "        # Remove any parameters (everything after '?')\n",
    "        title = title_with_params.split('?')[0]\n",
    "        \n",
    "        # Replace hyphens with spaces to improve readability\n",
    "        formatted_title = title.replace('-', ' ')\n",
    "        \n",
    "        # Write the formatted title to the file\n",
    "        file.write(f\"{formatted_title}\\n\")\n",
    "\n",
    "print(\"Titles extracted and written to 'titles.txt'.\")"
   ]
  },
  {
   "cell_type": "markdown",
   "metadata": {},
   "source": []
  }
 ],
 "metadata": {
  "kernelspec": {
   "display_name": "base",
   "language": "python",
   "name": "python3"
  },
  "language_info": {
   "codemirror_mode": {
    "name": "ipython",
    "version": 3
   },
   "file_extension": ".py",
   "mimetype": "text/x-python",
   "name": "python",
   "nbconvert_exporter": "python",
   "pygments_lexer": "ipython3",
   "version": "3.9.13"
  }
 },
 "nbformat": 4,
 "nbformat_minor": 2
}
