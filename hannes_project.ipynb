{
 "cells": [
  {
   "cell_type": "markdown",
   "metadata": {},
   "source": [
    "##### Testing to retreive Data through CDX API"
   ]
  },
  {
   "cell_type": "code",
   "execution_count": 1,
   "metadata": {},
   "outputs": [],
   "source": [
    "import requests\n",
    "from bs4 import BeautifulSoup\n",
    "\n",
    "# CDX API base URL\n",
    "cdx_api_url = \"http://web.archive.org/cdx/search/cdx\"\n",
    "\n",
    "# Set the parameters for the CDX API request\n",
    "params = {\n",
    "    \"url\": \"publico.pt\",  # News domain\n",
    "    \"from\": \"20190101\",   # Start date (2019)\n",
    "    \"to\": \"20190130\",     # End date (2019)\n",
    "    \"output\": \"json\",     # Return output in JSON format\n",
    "    \"filter\": \"statuscode:200\",  # Only return pages that successfully loaded\n",
    "    \"collapse\": \"urlkey\",  # Collapse identical URLs to avoid duplicates\n",
    "    \"matchType\": \"prefix\",  # Match URLs that start with the domain\n",
    "    \"limit\": 10  # Limit the number of results (you can adjust this)\n",
    "}\n",
    "\n",
    "# Open a file to write the results\n",
    "with open(\"results.txt\", \"w\") as file:\n",
    "    # Send a request to the CDX API\n",
    "    response = requests.get(cdx_api_url, params=params)\n",
    "\n",
    "    # Check if the request was successful\n",
    "    if response.status_code == 200:\n",
    "        # Parse the response JSON (CDX API returns a list of metadata for URLs)\n",
    "        data = response.json()\n",
    "        \n",
    "        # Loop over each entry in the JSON data\n",
    "        for entry in data:\n",
    "            # Get the URL and timestamp of the archived page\n",
    "            timestamp = entry[1]\n",
    "            original_url = entry[2]\n",
    "\n",
    "            # Construct the archived URL for Wayback Machine\n",
    "            archived_url = f\"https://web.archive.org/web/{timestamp}/{original_url}\"\n",
    "            file.write(f\"Fetching archived URL: {archived_url}\\n\")\n",
    "            \n",
    "            # Now make a request to the archived page\n",
    "            archived_page_response = requests.get(archived_url)\n",
    "            \n",
    "            # Check if the archived page request was successful\n",
    "            if archived_page_response.status_code == 200:\n",
    "                # Parse the page content using BeautifulSoup\n",
    "                soup = BeautifulSoup(archived_page_response.content, 'html.parser')\n",
    "                \n",
    "                # Find all heading tags (h1, h2, h3, h4, h5, h6)\n",
    "                heading_tags = soup.find_all(['h1', 'h2', 'h3', 'h4', 'h5', 'h6'])\n",
    "\n",
    "                # List of keywords to search for\n",
    "                keywords = [\"Chega\", \"André Ventura\", \"Mário Machado\"]\n",
    "                \n",
    "                # Loop through the heading tags and print their text\n",
    "                for heading in heading_tags:\n",
    "                    heading_text = heading.get_text()\n",
    "                    file.write(f\"Heading found: {heading_text}\\n\")\n",
    "                    \n",
    "                    for keyword in keywords:\n",
    "                        if keyword in heading_text:\n",
    "                            file.write(f\"Keyword '{keyword}' mentioned in heading\\n\")\n",
    "            else:\n",
    "                file.write(f\"Error fetching archived page: {archived_page_response.status_code}\\n\")\n",
    "    else:\n",
    "        file.write(f\"Error retrieving data from CDX API: {response.status_code}\\n\")"
   ]
  },
  {
   "cell_type": "code",
   "execution_count": null,
   "metadata": {},
   "outputs": [],
   "source": [
    "# Only search for <head> elements in website"
   ]
  }
 ],
 "metadata": {
  "kernelspec": {
   "display_name": "base",
   "language": "python",
   "name": "python3"
  },
  "language_info": {
   "codemirror_mode": {
    "name": "ipython",
    "version": 3
   },
   "file_extension": ".py",
   "mimetype": "text/x-python",
   "name": "python",
   "nbconvert_exporter": "python",
   "pygments_lexer": "ipython3",
   "version": "3.9.13"
  }
 },
 "nbformat": 4,
 "nbformat_minor": 2
}
