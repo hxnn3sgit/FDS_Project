{
 "cells": [
  {
   "cell_type": "markdown",
   "metadata": {},
   "source": [
    "##### Saving words from newspaper titles in textfiles"
   ]
  },
  {
   "cell_type": "code",
   "execution_count": 11,
   "metadata": {},
   "outputs": [
    {
     "name": "stdout",
     "output_type": "stream",
     "text": [
      "Titles extracted and written to 'titles.txt'.\n"
     ]
    }
   ],
   "source": [
    "import json\n",
    "\n",
    "# Path to the JSON file\n",
    "json_file_path = 'cdx_results_2019.json'\n",
    "\n",
    "# Open and load the JSON file\n",
    "with open(json_file_path, 'r') as file:\n",
    "    data = json.load(file)\n",
    "\n",
    "# List to store the URLs\n",
    "urls = []\n",
    "\n",
    "# Loop through the data and extract 'url' values\n",
    "for entry in data:\n",
    "    if 'url' in entry:  # Check if 'url' key exists\n",
    "        urls.append(entry['url'])  # Add the URL to the list\n",
    "\n",
    "# Open a file to write the results\n",
    "with open(\"titles.txt\", \"w\") as file:\n",
    "    # Loop through each URL\n",
    "    for url in urls:\n",
    "        # Remove 'https://' and split the URL at slashes\n",
    "        parts = url.split('/')\n",
    "        \n",
    "        # Extract the last part after the slash, which usually contains the title\n",
    "        title_with_params = parts[-1]\n",
    "        \n",
    "        # Remove any parameters (everything after '?')\n",
    "        title = title_with_params.split('?')[0]\n",
    "        \n",
    "        # Replace hyphens with spaces to improve readability\n",
    "        formatted_title = title.replace('-', ' ')\n",
    "        \n",
    "        # Write the formatted title to the file\n",
    "        file.write(f\"{formatted_title}\\n\")\n",
    "\n",
    "print(\"Titles extracted and written to 'titles.txt'.\")\n",
    "\n",
    "# maybe store urls and words wich belong togethers in a dictionary"
   ]
  },
  {
   "cell_type": "code",
   "execution_count": 12,
   "metadata": {},
   "outputs": [],
   "source": [
    "import json\n",
    "\n",
    "# Function to split the URL into words from the title\n",
    "def split_url_in_words(url):\n",
    "    # Remove 'https://' and split the URL at slashes\n",
    "    parts = url.split('/')\n",
    "    \n",
    "    # Extract the last part after the slash, which usually contains the title\n",
    "    title_with_params = parts[-1]\n",
    "    \n",
    "    # Remove any parameters (everything after '?')\n",
    "    title = title_with_params.split('?')[0]\n",
    "    \n",
    "    # Replace hyphens with spaces to improve readability\n",
    "    formatted_title = title.replace('-', ' ')\n",
    "    \n",
    "    # Return the split words\n",
    "    return formatted_title\n",
    "\n",
    "# Path to the JSON file\n",
    "json_file_path = 'cdx_results_2019.json'\n",
    "\n",
    "# Open and load the JSON file\n",
    "with open(json_file_path, 'r') as file:\n",
    "    data = json.load(file)\n",
    "\n",
    "# Empty dictionary to store the URLs as keys and the split title words as values\n",
    "urls = {}\n",
    "\n",
    "# Iterate through the JSON data\n",
    "for entry in data:\n",
    "    if 'url' in entry:\n",
    "        #url = entry['url']  # Get the full URL\n",
    "        #split_title = split_url_in_words(url)  # Split the URL title into words\n",
    "        #urls[str(entry['url'])] = split_title  # Store the URL as key and split title as value\n",
    "        urls[str(entry['url'])] = split_url_in_words(entry['url'])\n",
    "\n",
    "# Writing dictionary to a textfile\n",
    "with open('urls_titles.json', 'w') as output_file:\n",
    "    json.dump(urls, output_file, indent=4)"
   ]
  },
  {
   "cell_type": "code",
   "execution_count": null,
   "metadata": {},
   "outputs": [],
   "source": []
  }
 ],
 "metadata": {
  "kernelspec": {
   "display_name": "base",
   "language": "python",
   "name": "python3"
  },
  "language_info": {
   "codemirror_mode": {
    "name": "ipython",
    "version": 3
   },
   "file_extension": ".py",
   "mimetype": "text/x-python",
   "name": "python",
   "nbconvert_exporter": "python",
   "pygments_lexer": "ipython3",
   "version": "3.9.13"
  }
 },
 "nbformat": 4,
 "nbformat_minor": 2
}
