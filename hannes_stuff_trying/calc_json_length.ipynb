{
 "cells": [
  {
   "cell_type": "code",
   "execution_count": 14,
   "metadata": {},
   "outputs": [],
   "source": [
    "import json\n",
    "\n",
    "# Open and load the JSON file\n",
    "with open('cdx_results_2019.json', 'r') as file:\n",
    "    data1 = json.load(file)\n",
    "\n",
    "# Open and load the JSON file\n",
    "with open('cdx_results_2020-2021.json', 'r') as file:\n",
    "    data2 = json.load(file)\n",
    "\n",
    "# Open and load the JSON file\n",
    "with open('cdx_results_2022-2024.json', 'r') as file:\n",
    "    data3 = json.load(file)"
   ]
  },
  {
   "cell_type": "code",
   "execution_count": 16,
   "metadata": {},
   "outputs": [
    {
     "name": "stdout",
     "output_type": "stream",
     "text": [
      "2827.8\n",
      "19170.333333333332\n",
      "5715.0\n"
     ]
    }
   ],
   "source": [
    "print(len(data1) / 5)\n",
    "print(len(data2) / 3)\n",
    "print(len(data3) / 3)"
   ]
  },
  {
   "cell_type": "code",
   "execution_count": null,
   "metadata": {},
   "outputs": [],
   "source": []
  }
 ],
 "metadata": {
  "kernelspec": {
   "display_name": "base",
   "language": "python",
   "name": "python3"
  },
  "language_info": {
   "codemirror_mode": {
    "name": "ipython",
    "version": 3
   },
   "file_extension": ".py",
   "mimetype": "text/x-python",
   "name": "python",
   "nbconvert_exporter": "python",
   "pygments_lexer": "ipython3",
   "version": "3.9.13"
  }
 },
 "nbformat": 4,
 "nbformat_minor": 2
}
