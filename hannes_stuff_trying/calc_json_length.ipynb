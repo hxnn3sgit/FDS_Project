{
 "cells": [
  {
   "cell_type": "code",
   "execution_count": 6,
   "metadata": {},
   "outputs": [],
   "source": [
    "import json\n",
    "\n",
    "# Open and load the JSON file\n",
    "with open('cdx_results_2019.json', 'r') as file:\n",
    "    data1 = json.load(file)\n",
    "\n",
    "# Open and load the JSON file\n",
    "with open('cdx_results_2020-2021.json', 'r') as file:\n",
    "    data2 = json.load(file)\n",
    "\n",
    "# Open and load the JSON file\n",
    "with open('cdx_results_2022-2024.json', 'r') as file:\n",
    "    data3 = json.load(file)"
   ]
  },
  {
   "cell_type": "code",
   "execution_count": 9,
   "metadata": {},
   "outputs": [
    {
     "name": "stdout",
     "output_type": "stream",
     "text": [
      "counter1: 14139\n",
      "counter2: 57511\n",
      "counter3: 17145\n"
     ]
    }
   ],
   "source": [
    "counter1 = 0\n",
    "counter2 = 0\n",
    "counter3 = 0\n",
    "\n",
    "for v in data1:\n",
    "   counter1 += 1\n",
    "\n",
    "print(f\"counter1: {counter1}\") \n",
    "\n",
    "for v in data2:\n",
    "   counter2 += 1\n",
    "\n",
    "print(f\"counter2: {counter2}\")\n",
    "\n",
    "for v in data3:\n",
    "   counter3 += 1\n",
    "\n",
    "print(f\"counter3: {counter3}\") \n"
   ]
  },
  {
   "cell_type": "code",
   "execution_count": null,
   "metadata": {},
   "outputs": [],
   "source": []
  }
 ],
 "metadata": {
  "kernelspec": {
   "display_name": "base",
   "language": "python",
   "name": "python3"
  },
  "language_info": {
   "codemirror_mode": {
    "name": "ipython",
    "version": 3
   },
   "file_extension": ".py",
   "mimetype": "text/x-python",
   "name": "python",
   "nbconvert_exporter": "python",
   "pygments_lexer": "ipython3",
   "version": "3.9.13"
  }
 },
 "nbformat": 4,
 "nbformat_minor": 2
}
