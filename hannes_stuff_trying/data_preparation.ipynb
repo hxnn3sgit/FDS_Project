{
 "cells": [
  {
   "cell_type": "code",
   "execution_count": 1,
   "metadata": {},
   "outputs": [],
   "source": [
    "import requests"
   ]
  },
  {
   "cell_type": "code",
   "execution_count": 4,
   "metadata": {},
   "outputs": [
    {
     "name": "stdout",
     "output_type": "stream",
     "text": [
      "<Response [200]>\n"
     ]
    }
   ],
   "source": [
    "url = 'https://arquivo.pt/textsearch?q=\"right%20parties%in%portugal\"'\n",
    "\n",
    "r = requests.get(url)\n",
    "\n",
    "print(r)"
   ]
  },
  {
   "cell_type": "code",
   "execution_count": null,
   "metadata": {},
   "outputs": [],
   "source": [
    "import requests\n",
    "\n",
    "# Beispiel-Abfrage: Suchen nach Webseiten zu einem bestimmten Thema\n",
    "search_term = \"rechte Parteien Portugal\"\n",
    "url = \"https://arquivo.pt/textsearch\"\n",
    "\n",
    "# Parameter für die API-Abfrage\n",
    "params = {\n",
    "    'q': search_term,  # Suchbegriff\n",
    "    'maxItems': 10,  # Maximalanzahl der Ergebnisse\n",
    "    'from': '2010-01-01',  # Startdatum für die Suche\n",
    "    'to': '2023-12-31'  # Enddatum\n",
    "}\n",
    "\n",
    "# HTTP GET-Anfrage an die Arquivo.pt API\n",
    "response = requests.get(url, params=params)\n",
    "\n",
    "# Überprüfen, ob die Anfrage erfolgreich war\n",
    "if response.status_code == 200:\n",
    "    # Ergebnisse als JSON formatieren\n",
    "    data = response.json()\n",
    "    \n",
    "    # Ausgabe der gefundenen Webseiten-URLs\n",
    "    for result in data['response_items']:\n",
    "        print(f\"Title: {result['title']}\")\n",
    "        print(f\"URL: {result['linkToNoFrame']}\")\n",
    "        print(f\"Snippet: {result['snippet']}\")\n",
    "        print(\"-\" * 50)\n",
    "else:\n",
    "    print(f\"Fehler: {response.status_code}\")\n"
   ]
  },
  {
   "cell_type": "markdown",
   "metadata": {},
   "source": [
    "#### CDX API:"
   ]
  },
  {
   "cell_type": "code",
   "execution_count": 1,
   "metadata": {},
   "outputs": [
    {
     "name": "stdout",
     "output_type": "stream",
     "text": [
      "['urlkey', 'timestamp', 'original', 'mimetype', 'statuscode', 'digest', 'length']\n",
      "['com,example)/', '20020120142510', 'http://example.com:80/', 'text/html', '200', 'HT2DYGA5UKZCPBSFVCV3JOBXGW2G5UUA', '1792']\n",
      "['com,example)/', '20020328012821', 'http://www.example.com:80/', 'text/html', '200', 'UY3I2DT2AMWAY6DECFCFYMT5ZOTFHUCH', '481']\n",
      "['com,example)/', '20020524041628', 'http://www.example.com:80/', 'text/html', '200', 'UY3I2DT2AMWAY6DECFCFYMT5ZOTFHUCH', '481']\n",
      "['com,example)/', '20020528114741', 'http://www.example.com:80/', 'text/html', '200', 'UY3I2DT2AMWAY6DECFCFYMT5ZOTFHUCH', '481']\n",
      "['com,example)/', '20020529173502', 'http://www.example.com:80/', 'text/html', '200', 'UY3I2DT2AMWAY6DECFCFYMT5ZOTFHUCH', '482']\n",
      "['com,example)/', '20020604040806', 'http://example.com:80/', 'text/html', '200', 'UY3I2DT2AMWAY6DECFCFYMT5ZOTFHUCH', '477']\n",
      "['com,example)/', '20020604050644', 'http://example.com:80/', 'text/html', '200', 'UY3I2DT2AMWAY6DECFCFYMT5ZOTFHUCH', '476']\n",
      "['com,example)/', '20020722232628', 'http://example.com:80/', 'text/html', '200', 'UY3I2DT2AMWAY6DECFCFYMT5ZOTFHUCH', '451']\n",
      "['com,example)/', '20020801235910', 'http://www.example.com:80/', 'text/html', '200', 'UY3I2DT2AMWAY6DECFCFYMT5ZOTFHUCH', '459']\n",
      "['com,example)/', '20020803080544', 'http://www.example.com:80/', 'text/html', '200', 'UY3I2DT2AMWAY6DECFCFYMT5ZOTFHUCH', '458']\n"
     ]
    }
   ],
   "source": [
    "import requests\n",
    "\n",
    "# Basis-URL der CDX API\n",
    "base_url = \"http://web.archive.org/cdx/search/cdx\"\n",
    "\n",
    "# Parameter für die Anfrage\n",
    "params = {\n",
    "    \"url\": \"https://www.theportugalnews.com\",  # Die URL der Website, die du durchsuchen möchtest\n",
    "    \"output\": \"json\",      # Ausgabeformat (JSON in diesem Fall)\n",
    "    \"limit\": 10,           # Anzahl der Ergebnisse, die zurückgegeben werden sollen\n",
    "    \"filter\": \"statuscode:200\",  # Nur Statuscode 200 (erfolgreiche Abrufe)\n",
    "}\n",
    "\n",
    "# Anfrage an die API senden\n",
    "response = requests.get(base_url, params=params)\n",
    "\n",
    "# Antwort überprüfen und verarbeiten\n",
    "if response.status_code == 200:\n",
    "    data = response.json()  # JSON-Antwort parsen\n",
    "    for record in data:\n",
    "        print(record)\n",
    "else:\n",
    "    print(f\"Fehler: {response.status_code}\")\n"
   ]
  },
  {
   "cell_type": "code",
   "execution_count": null,
   "metadata": {},
   "outputs": [],
   "source": []
  }
 ],
 "metadata": {
  "kernelspec": {
   "display_name": "base",
   "language": "python",
   "name": "python3"
  },
  "language_info": {
   "codemirror_mode": {
    "name": "ipython",
    "version": 3
   },
   "file_extension": ".py",
   "mimetype": "text/x-python",
   "name": "python",
   "nbconvert_exporter": "python",
   "pygments_lexer": "ipython3",
   "version": "3.9.13"
  }
 },
 "nbformat": 4,
 "nbformat_minor": 2
}
