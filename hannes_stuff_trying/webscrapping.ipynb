{
 "cells": [
  {
   "cell_type": "code",
   "execution_count": 11,
   "metadata": {},
   "outputs": [],
   "source": [
    "import math\n",
    "import numpy as np\n",
    "import pandas as pd\n",
    "from bs4 import BeautifulSoup\n",
    "import requests"
   ]
  },
  {
   "cell_type": "code",
   "execution_count": 16,
   "metadata": {},
   "outputs": [
    {
     "name": "stdout",
     "output_type": "stream",
     "text": [
      "Text found in <p> element: O Christmas Fun Park chega ao Passeio Marítimo de Algés dia 29 de Novembro, naquele que vai ser o maior parque temático natalício da Europa. O evento é alusivo à aldeia do Pai Natal na Lapónia, Finlândia, e vai \"transformar Oeiras na capital do Natal\" até dia 12 de Janeiro.\n",
      "São 72 mil metros quadrados repletos de espírito natalício, com direito a neve artificial, um Lago Gelado, Aldeia do Pai Natal, roda gigante, Vila dos Elfos, tendas, espetáculos temáticos e muitas outras atividades dedicadas à época.\n",
      "O recinto vai estar aberto todos os dias da semana, do meio dia às 23 horas, de segunda a quinta-feira; e aos fins de semana, das 10 horas da manhã às 23 horas.\n",
      "Os bilhetes já podem ser adquiridos e custam 30€ por adulto e 25€ por cada criança. Há também pacotes para famílias: dois adultos e duas crianças, por 100€.\n",
      "A compra antecipada dos bilhetes, até dia 15 deste mês, conta com descontos.\n",
      "De acordo com um comunicado feito pela organização, o evento terá também \"uma forte missão social e um mercado de Natal acessível a todos\", uma vez que uma pequena parte do valor pago pelo bilhete reverte para causas sociais.\n",
      "\"Pretendemos criar um espaço de referência, onde se conjuguem os valores e princípios do espírito de Natal, com fortes componentes de diversão e de responsabilidade social\", afirmou Ivan Dias, um dos fundadores do projecto.\n",
      "\n",
      "\n",
      "Conteúdos exclusivos diários dos assinantes Correio da Manhã Exclusivos.\n",
      "(Enviada diariamente)\n",
      "\n"
     ]
    }
   ],
   "source": [
    "# Try to webscrape text out of a website\n",
    "\n",
    "url = \"https://www.cmjornal.pt/boa-vida/detalhe/capital-do-natal-chega-a-oeiras?ref=HP_Africa_BlocoBoaVida\"\n",
    "\n",
    "response = requests.get(url, timeout=10)\n",
    "\n",
    "html_content = b\"\"\n",
    "        \n",
    "# Stream the content until we find the closing </title> tag\n",
    "for chunk in response.iter_content(chunk_size=512):\n",
    "    html_content += chunk\n",
    "\n",
    "soup = BeautifulSoup(html_content, \"lxml\") # lxml for more speed\n",
    "\n",
    "# Extract <title> and <p> element\n",
    "title_tag = soup.find(\"title\")\n",
    "text_tag = soup.find_all(\"p\")\n",
    "\n",
    "# Extract title and text from the <title>/<p>-tag\n",
    "title_text = title_tag.get_text()\n",
    "        \n",
    "cat_text = \"\"\n",
    "\n",
    "for text in text_tag:\n",
    "    cat_text += text.get_text() + '\\n'\n",
    "\n",
    "# Debug output for Text:\n",
    "print(f'Text found in <p> element: {cat_text}')"
   ]
  },
  {
   "cell_type": "code",
   "execution_count": null,
   "metadata": {},
   "outputs": [],
   "source": []
  },
  {
   "cell_type": "code",
   "execution_count": null,
   "metadata": {},
   "outputs": [],
   "source": []
  }
 ],
 "metadata": {
  "kernelspec": {
   "display_name": "base",
   "language": "python",
   "name": "python3"
  },
  "language_info": {
   "codemirror_mode": {
    "name": "ipython",
    "version": 3
   },
   "file_extension": ".py",
   "mimetype": "text/x-python",
   "name": "python",
   "nbconvert_exporter": "python",
   "pygments_lexer": "ipython3",
   "version": "3.9.13"
  }
 },
 "nbformat": 4,
 "nbformat_minor": 2
}
