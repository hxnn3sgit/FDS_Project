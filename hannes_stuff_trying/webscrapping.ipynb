{
 "cells": [
  {
   "cell_type": "code",
   "execution_count": 4,
   "metadata": {},
   "outputs": [],
   "source": [
    "import math\n",
    "import numpy as np\n",
    "import pandas as pd\n",
    "from bs4 import BeautifulSoup\n",
    "import requests"
   ]
  },
  {
   "cell_type": "code",
   "execution_count": 6,
   "metadata": {},
   "outputs": [
    {
     "name": "stdout",
     "output_type": "stream",
     "text": [
      "Text found in <p> element: \n"
     ]
    }
   ],
   "source": [
    "# Try to webscrape text out of a website\n",
    "\n",
    "url = \"https://arquivo.pt/wayback/20191231013516/https://www.cmjornal.pt/politica/detalhe/20191223-2155-chega-propoe-comissao-parlamentar-de-inquerito-sobre-alegadas-fraudes-em-pedrogao-grande?ref=Política_MaisVistasArea\"\n",
    "\n",
    "response = requests.get(url, timeout=10)\n",
    "\n",
    "html_content = b\"\"\n",
    "        \n",
    "# Stream the content until we find the closing </title> tag\n",
    "for chunk in response.iter_content(chunk_size=512):\n",
    "    html_content += chunk\n",
    "\n",
    "soup = BeautifulSoup(html_content, \"lxml\") # lxml for more speed\n",
    "\n",
    "# Extract <title> and <p> element\n",
    "title_tag = soup.find(\"title\")\n",
    "text_tag = soup.find_all(\"p\")\n",
    "\n",
    "# Extract title and text from the <title>/<p>-tag\n",
    "title_text = title_tag.get_text()\n",
    "        \n",
    "cat_text = \"\"\n",
    "\n",
    "for text in text_tag:\n",
    "    cat_text += text.get_text() + '\\n'\n",
    "\n",
    "# Debug output for Text:\n",
    "print(f'Text found in <p> element: {cat_text}')"
   ]
  },
  {
   "cell_type": "code",
   "execution_count": null,
   "metadata": {},
   "outputs": [],
   "source": []
  },
  {
   "cell_type": "code",
   "execution_count": null,
   "metadata": {},
   "outputs": [],
   "source": []
  }
 ],
 "metadata": {
  "kernelspec": {
   "display_name": "base",
   "language": "python",
   "name": "python3"
  },
  "language_info": {
   "codemirror_mode": {
    "name": "ipython",
    "version": 3
   },
   "file_extension": ".py",
   "mimetype": "text/x-python",
   "name": "python",
   "nbconvert_exporter": "python",
   "pygments_lexer": "ipython3",
   "version": "3.9.13"
  }
 },
 "nbformat": 4,
 "nbformat_minor": 2
}
