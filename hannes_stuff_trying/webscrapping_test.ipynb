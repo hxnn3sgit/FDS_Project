{
 "cells": [
  {
   "cell_type": "code",
   "execution_count": 1,
   "metadata": {},
   "outputs": [],
   "source": [
    "import requests\n",
    "from bs4 import BeautifulSoup"
   ]
  },
  {
   "cell_type": "code",
   "execution_count": 6,
   "metadata": {},
   "outputs": [
    {
     "name": "stdout",
     "output_type": "stream",
     "text": [
      "Simple Test Page\n"
     ]
    }
   ],
   "source": [
    "import requests\n",
    "from bs4 import BeautifulSoup\n",
    "\n",
    "# URL der zu scrapenden Webseite\n",
    "url = \"https://phet-dev.colorado.edu/html/build-an-atom/0.0.0-3/simple-text-only-test-page.html\"\n",
    "\n",
    "# Webseite abrufen\n",
    "response = requests.get(url)\n",
    "\n",
    "# HTML-Inhalt der Webseite extrahieren\n",
    "html_content = response.content\n",
    "\n",
    "# HTML parsen mit BeautifulSoup\n",
    "soup = BeautifulSoup(html_content, \"html.parser\")\n",
    "\n",
    "#print(soup.prettify())\n",
    "\n",
    "file = open('html_code', 'w')\n",
    "file.write(soup.prettify())\n",
    "file.close()\n",
    "\n",
    "# Beispiel: Alle <h1>-Tags extrahieren\n",
    "h1_tags = soup.find_all(\"h1\")\n",
    "\n",
    "# Extrahierte Überschriften ausgeben\n",
    "for h1 in h1_tags:\n",
    "    print(h1.get_text())"
   ]
  },
  {
   "cell_type": "code",
   "execution_count": 18,
   "metadata": {},
   "outputs": [],
   "source": [
    "import requests\n",
    "\n",
    "# URL der zu scrapenden Webseite\n",
    "url = \"https://phet-dev.colorado.edu/html/build-an-atom/0.0.0-3/simple-text-only-test-page.html\"\n",
    "\n",
    "# Webseite abrufen\n",
    "response = requests.get(url)\n",
    "\n",
    "# Überprüfe, ob die Anfrage erfolgreich war (Statuscode 200)\n",
    "if response.status_code == 200:\n",
    "    # Öffne die Datei im Textmodus zum Schreiben\n",
    "    with open('responses.txt', 'w', encoding='utf-8') as file:\n",
    "        # Schreibe den Status und den Inhalt der Antwort in die Datei\n",
    "        file.write('Response:\\n')\n",
    "        file.write(str(response) + '\\n')  # Statuscode und andere Metadaten\n",
    "        file.write('Response Content:\\n')\n",
    "        file.write(response.text)  # HTML-Inhalt als Text\n",
    "        file.write('\\nresponse.raw\\n')\n",
    "        file.write(str(response.raw))  # Roher HTTP-Response-Stream\n",
    "else:\n",
    "    print(f\"Fehler: Statuscode {response.status_code}\")\n"
   ]
  },
  {
   "cell_type": "code",
   "execution_count": null,
   "metadata": {},
   "outputs": [],
   "source": [
    "class for <p> elements: texto_container paywall"
   ]
  },
  {
   "cell_type": "code",
   "execution_count": null,
   "metadata": {},
   "outputs": [],
   "source": []
  }
 ],
 "metadata": {
  "kernelspec": {
   "display_name": "base",
   "language": "python",
   "name": "python3"
  },
  "language_info": {
   "codemirror_mode": {
    "name": "ipython",
    "version": 3
   },
   "file_extension": ".py",
   "mimetype": "text/x-python",
   "name": "python",
   "nbconvert_exporter": "python",
   "pygments_lexer": "ipython3",
   "version": "3.9.13"
  }
 },
 "nbformat": 4,
 "nbformat_minor": 2
}
